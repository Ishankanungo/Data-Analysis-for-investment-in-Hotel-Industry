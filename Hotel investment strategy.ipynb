{
 "cells": [
  {
   "cell_type": "markdown",
   "metadata": {},
   "source": [
    "# Ishan Kanungo (ishankanungo09@gmail.com)"
   ]
  },
  {
   "cell_type": "markdown",
   "metadata": {
    "colab_type": "text",
    "id": "x_BkOtqBIKQz"
   },
   "source": [
    "# Data Science Challenge"
   ]
  },
  {
   "cell_type": "code",
   "execution_count": 1,
   "metadata": {
    "colab": {},
    "colab_type": "code",
    "id": "U_VthdACIKQ6"
   },
   "outputs": [
    {
     "name": "stdout",
     "output_type": "stream",
     "text": [
      "Requirement already satisfied: catboost in /opt/conda/lib/python3.7/site-packages (1.0.4)\n",
      "Requirement already satisfied: pandas>=0.24.0 in /opt/conda/lib/python3.7/site-packages (from catboost) (0.25.3)\n",
      "Requirement already satisfied: graphviz in /opt/conda/lib/python3.7/site-packages (from catboost) (0.19.1)\n",
      "Requirement already satisfied: scipy in /opt/conda/lib/python3.7/site-packages (from catboost) (1.3.3)\n",
      "Requirement already satisfied: six in /opt/conda/lib/python3.7/site-packages (from catboost) (1.15.0)\n",
      "Requirement already satisfied: plotly in /opt/conda/lib/python3.7/site-packages (from catboost) (5.6.0)\n",
      "Requirement already satisfied: matplotlib in /opt/conda/lib/python3.7/site-packages (from catboost) (3.1.3)\n",
      "Requirement already satisfied: numpy>=1.16.0 in /opt/conda/lib/python3.7/site-packages (from catboost) (1.19.2)\n",
      "Requirement already satisfied: python-dateutil>=2.6.1 in /opt/conda/lib/python3.7/site-packages (from pandas>=0.24.0->catboost) (2.8.1)\n",
      "Requirement already satisfied: pytz>=2017.2 in /opt/conda/lib/python3.7/site-packages (from pandas>=0.24.0->catboost) (2020.1)\n",
      "Requirement already satisfied: tenacity>=6.2.0 in /opt/conda/lib/python3.7/site-packages (from plotly->catboost) (8.0.1)\n",
      "Requirement already satisfied: pyparsing!=2.0.4,!=2.1.2,!=2.1.6,>=2.0.1 in /opt/conda/lib/python3.7/site-packages (from matplotlib->catboost) (2.4.7)\n",
      "Requirement already satisfied: kiwisolver>=1.0.1 in /opt/conda/lib/python3.7/site-packages (from matplotlib->catboost) (1.3.0)\n",
      "Requirement already satisfied: cycler>=0.10 in /opt/conda/lib/python3.7/site-packages (from matplotlib->catboost) (0.10.0)\n",
      "Requirement already satisfied: xgboost in /opt/conda/lib/python3.7/site-packages (1.5.2)\n",
      "Requirement already satisfied: numpy in /opt/conda/lib/python3.7/site-packages (from xgboost) (1.19.2)\n",
      "Requirement already satisfied: scipy in /opt/conda/lib/python3.7/site-packages (from xgboost) (1.3.3)\n"
     ]
    }
   ],
   "source": [
    "# To install packages that are not installed by default, uncomment the last two lines \n",
    "# of this cell and replace <package list> with a list of necessary packages.\n",
    "# This will ensure the notebook has all the dependencies and works everywhere.\n",
    "\n",
    "import sys\n",
    "!{sys.executable} -m pip install catboost\n",
    "!{sys.executable} -m pip install xgboost"
   ]
  },
  {
   "cell_type": "code",
   "execution_count": 2,
   "metadata": {
    "colab": {},
    "colab_type": "code",
    "id": "VzGFUCCVIKRL"
   },
   "outputs": [],
   "source": [
    "#Libraries\n",
    "import pandas as pd\n",
    "pd.set_option(\"display.max_columns\", 101)"
   ]
  },
  {
   "cell_type": "markdown",
   "metadata": {
    "colab_type": "text",
    "id": "TZ23KNY8IKRT"
   },
   "source": [
    "## Data Description"
   ]
  },
  {
   "cell_type": "markdown",
   "metadata": {
    "colab_type": "text",
    "id": "jWSkqquEIKRW"
   },
   "source": [
    "Column | Description\n",
    ":---|:---\n",
    "`id` | The unique ID assigned to every hotel.\n",
    "`region` | The region in which the hotel is located..\n",
    "`latitude` | The latitude of the hotel.\n",
    "`longitude` | The longitude of the hotel.\n",
    "`accommodation_type` | The type of accommodation offered by the hotel. For example: Private room, Entire house/apt, etc.\n",
    "`cost` | The cost of booking the hotel for one night. (in \\$\\$)\n",
    "`minimum_nights` | The minimum number of nights stay required.\n",
    "`number_of_reviews` | The number of reviews accumulated by the hotel.\n",
    "`reviews_per_month` | The average number of reviews received by the hotel per month.\n",
    "`owner_id` | The unique ID assigned to every owner. An owner can own multiple hotels.\n",
    "`owned_hotels` | The number of hotels owned by the owner.\n",
    "`yearly_availability` | It indicates if the hotel accepts bookings around the year. Values are 0 (not available for 365 days in a year) and 1 (available for 365 days in a year)."
   ]
  },
  {
   "cell_type": "code",
   "execution_count": 3,
   "metadata": {},
   "outputs": [],
   "source": [
    "import matplotlib.pyplot as plt\n",
    "import seaborn as sns\n",
    "from sklearn.preprocessing import LabelEncoder\n",
    "import numpy as np\n",
    "from sklearn.experimental import enable_iterative_imputer\n",
    "from sklearn.impute import IterativeImputer\n",
    "from sklearn.model_selection import train_test_split\n",
    "\n",
    "import numpy as np\n",
    "import time\n",
    "import pandas as pd\n",
    "import seaborn as sns\n",
    "import matplotlib.pyplot as plt\n",
    "from sklearn import svm\n",
    "import sklearn.metrics as metric\n",
    "from sklearn.model_selection import train_test_split\n",
    "from sklearn.linear_model import LogisticRegression\n",
    "from sklearn.preprocessing import OneHotEncoder, LabelEncoder\n",
    "from sklearn.metrics import accuracy_score\n",
    "from sklearn.metrics import confusion_matrix\n",
    "from sklearn.preprocessing import StandardScaler,MinMaxScaler\n",
    "from catboost import CatBoostClassifier"
   ]
  },
  {
   "cell_type": "markdown",
   "metadata": {
    "colab_type": "text",
    "id": "BWQqx7cSIKRX"
   },
   "source": [
    "## Data Wrangling & Visualization"
   ]
  },
  {
   "cell_type": "code",
   "execution_count": 4,
   "metadata": {
    "colab": {},
    "colab_type": "code",
    "id": "SsjL7tf7IKRc"
   },
   "outputs": [],
   "source": [
    "# Dataset is already loaded below\n",
    "data = pd.read_csv(\"train.csv\")"
   ]
  },
  {
   "cell_type": "code",
   "execution_count": 5,
   "metadata": {
    "colab": {},
    "colab_type": "code",
    "id": "kzuHtZEkIKRh",
    "outputId": "9d14832c-2eda-48eb-df41-548113a94a73"
   },
   "outputs": [
    {
     "data": {
      "text/html": [
       "<div>\n",
       "<style scoped>\n",
       "    .dataframe tbody tr th:only-of-type {\n",
       "        vertical-align: middle;\n",
       "    }\n",
       "\n",
       "    .dataframe tbody tr th {\n",
       "        vertical-align: top;\n",
       "    }\n",
       "\n",
       "    .dataframe thead th {\n",
       "        text-align: right;\n",
       "    }\n",
       "</style>\n",
       "<table border=\"1\" class=\"dataframe\">\n",
       "  <thead>\n",
       "    <tr style=\"text-align: right;\">\n",
       "      <th></th>\n",
       "      <th>id</th>\n",
       "      <th>region</th>\n",
       "      <th>latitude</th>\n",
       "      <th>longitude</th>\n",
       "      <th>accommodation_type</th>\n",
       "      <th>cost</th>\n",
       "      <th>minimum_nights</th>\n",
       "      <th>number_of_reviews</th>\n",
       "      <th>reviews_per_month</th>\n",
       "      <th>owner_id</th>\n",
       "      <th>owned_hotels</th>\n",
       "      <th>yearly_availability</th>\n",
       "    </tr>\n",
       "  </thead>\n",
       "  <tbody>\n",
       "    <tr>\n",
       "      <th>0</th>\n",
       "      <td>13232</td>\n",
       "      <td>Manhattan</td>\n",
       "      <td>40.71854</td>\n",
       "      <td>-74.00439</td>\n",
       "      <td>Entire home/apt</td>\n",
       "      <td>170</td>\n",
       "      <td>5</td>\n",
       "      <td>7</td>\n",
       "      <td>0.56</td>\n",
       "      <td>929983</td>\n",
       "      <td>1</td>\n",
       "      <td>0</td>\n",
       "    </tr>\n",
       "    <tr>\n",
       "      <th>1</th>\n",
       "      <td>246</td>\n",
       "      <td>Brooklyn</td>\n",
       "      <td>40.64446</td>\n",
       "      <td>-73.95030</td>\n",
       "      <td>Entire home/apt</td>\n",
       "      <td>65</td>\n",
       "      <td>3</td>\n",
       "      <td>238</td>\n",
       "      <td>2.30</td>\n",
       "      <td>281764</td>\n",
       "      <td>1</td>\n",
       "      <td>0</td>\n",
       "    </tr>\n",
       "    <tr>\n",
       "      <th>2</th>\n",
       "      <td>19091</td>\n",
       "      <td>Queens</td>\n",
       "      <td>40.78573</td>\n",
       "      <td>-73.81062</td>\n",
       "      <td>Private room</td>\n",
       "      <td>85</td>\n",
       "      <td>1</td>\n",
       "      <td>0</td>\n",
       "      <td>NaN</td>\n",
       "      <td>19923341</td>\n",
       "      <td>1</td>\n",
       "      <td>1</td>\n",
       "    </tr>\n",
       "    <tr>\n",
       "      <th>3</th>\n",
       "      <td>34305</td>\n",
       "      <td>Manhattan</td>\n",
       "      <td>40.73863</td>\n",
       "      <td>-73.98002</td>\n",
       "      <td>Private room</td>\n",
       "      <td>210</td>\n",
       "      <td>30</td>\n",
       "      <td>0</td>\n",
       "      <td>NaN</td>\n",
       "      <td>200380610</td>\n",
       "      <td>65</td>\n",
       "      <td>1</td>\n",
       "    </tr>\n",
       "    <tr>\n",
       "      <th>4</th>\n",
       "      <td>444</td>\n",
       "      <td>Manhattan</td>\n",
       "      <td>40.82426</td>\n",
       "      <td>-73.94630</td>\n",
       "      <td>Shared room</td>\n",
       "      <td>75</td>\n",
       "      <td>3</td>\n",
       "      <td>38</td>\n",
       "      <td>0.42</td>\n",
       "      <td>745069</td>\n",
       "      <td>3</td>\n",
       "      <td>1</td>\n",
       "    </tr>\n",
       "  </tbody>\n",
       "</table>\n",
       "</div>"
      ],
      "text/plain": [
       "      id     region  latitude  longitude accommodation_type  cost  \\\n",
       "0  13232  Manhattan  40.71854  -74.00439    Entire home/apt   170   \n",
       "1    246   Brooklyn  40.64446  -73.95030    Entire home/apt    65   \n",
       "2  19091     Queens  40.78573  -73.81062       Private room    85   \n",
       "3  34305  Manhattan  40.73863  -73.98002       Private room   210   \n",
       "4    444  Manhattan  40.82426  -73.94630        Shared room    75   \n",
       "\n",
       "   minimum_nights  number_of_reviews  reviews_per_month   owner_id  \\\n",
       "0               5                  7               0.56     929983   \n",
       "1               3                238               2.30     281764   \n",
       "2               1                  0                NaN   19923341   \n",
       "3              30                  0                NaN  200380610   \n",
       "4               3                 38               0.42     745069   \n",
       "\n",
       "   owned_hotels  yearly_availability  \n",
       "0             1                    0  \n",
       "1             1                    0  \n",
       "2             1                    1  \n",
       "3            65                    1  \n",
       "4             3                    1  "
      ]
     },
     "execution_count": 5,
     "metadata": {},
     "output_type": "execute_result"
    }
   ],
   "source": [
    "data.head()"
   ]
  },
  {
   "cell_type": "code",
   "execution_count": 6,
   "metadata": {
    "colab": {},
    "colab_type": "code",
    "id": "0mhMZRlBIKRu",
    "outputId": "0a669059-5528-4ec0-d64b-8231f6aadf45"
   },
   "outputs": [
    {
     "data": {
      "text/plain": [
       "Index(['id', 'region', 'latitude', 'longitude', 'accommodation_type', 'cost',\n",
       "       'minimum_nights', 'number_of_reviews', 'reviews_per_month', 'owner_id',\n",
       "       'owned_hotels', 'yearly_availability'],\n",
       "      dtype='object')"
      ]
     },
     "execution_count": 6,
     "metadata": {},
     "output_type": "execute_result"
    }
   ],
   "source": [
    "#Explore columns\n",
    "data.columns"
   ]
  },
  {
   "cell_type": "code",
   "execution_count": 7,
   "metadata": {
    "colab": {},
    "colab_type": "code",
    "id": "-SrTmyfJIKR1",
    "outputId": "12b270ca-8c3f-402b-d6c1-286c17e63fdd"
   },
   "outputs": [
    {
     "data": {
      "text/html": [
       "<div>\n",
       "<style scoped>\n",
       "    .dataframe tbody tr th:only-of-type {\n",
       "        vertical-align: middle;\n",
       "    }\n",
       "\n",
       "    .dataframe tbody tr th {\n",
       "        vertical-align: top;\n",
       "    }\n",
       "\n",
       "    .dataframe thead th {\n",
       "        text-align: right;\n",
       "    }\n",
       "</style>\n",
       "<table border=\"1\" class=\"dataframe\">\n",
       "  <thead>\n",
       "    <tr style=\"text-align: right;\">\n",
       "      <th></th>\n",
       "      <th>id</th>\n",
       "      <th>latitude</th>\n",
       "      <th>longitude</th>\n",
       "      <th>cost</th>\n",
       "      <th>minimum_nights</th>\n",
       "      <th>number_of_reviews</th>\n",
       "      <th>reviews_per_month</th>\n",
       "      <th>owner_id</th>\n",
       "      <th>owned_hotels</th>\n",
       "      <th>yearly_availability</th>\n",
       "    </tr>\n",
       "  </thead>\n",
       "  <tbody>\n",
       "    <tr>\n",
       "      <th>count</th>\n",
       "      <td>2870.000000</td>\n",
       "      <td>2870.000000</td>\n",
       "      <td>2870.000000</td>\n",
       "      <td>2870.000000</td>\n",
       "      <td>2870.000000</td>\n",
       "      <td>2870.000000</td>\n",
       "      <td>2194.000000</td>\n",
       "      <td>2.870000e+03</td>\n",
       "      <td>2870.000000</td>\n",
       "      <td>2870.000000</td>\n",
       "    </tr>\n",
       "    <tr>\n",
       "      <th>mean</th>\n",
       "      <td>26760.657143</td>\n",
       "      <td>40.731224</td>\n",
       "      <td>-73.950158</td>\n",
       "      <td>195.943206</td>\n",
       "      <td>11.530314</td>\n",
       "      <td>16.315331</td>\n",
       "      <td>1.157502</td>\n",
       "      <td>7.202195e+07</td>\n",
       "      <td>8.411498</td>\n",
       "      <td>0.498606</td>\n",
       "    </tr>\n",
       "    <tr>\n",
       "      <th>std</th>\n",
       "      <td>14140.930062</td>\n",
       "      <td>0.054942</td>\n",
       "      <td>0.049745</td>\n",
       "      <td>406.184714</td>\n",
       "      <td>37.972339</td>\n",
       "      <td>32.481722</td>\n",
       "      <td>1.355028</td>\n",
       "      <td>8.076516e+07</td>\n",
       "      <td>27.105522</td>\n",
       "      <td>0.500085</td>\n",
       "    </tr>\n",
       "    <tr>\n",
       "      <th>min</th>\n",
       "      <td>0.000000</td>\n",
       "      <td>40.507080</td>\n",
       "      <td>-74.242850</td>\n",
       "      <td>10.000000</td>\n",
       "      <td>1.000000</td>\n",
       "      <td>0.000000</td>\n",
       "      <td>0.010000</td>\n",
       "      <td>2.787000e+03</td>\n",
       "      <td>1.000000</td>\n",
       "      <td>0.000000</td>\n",
       "    </tr>\n",
       "    <tr>\n",
       "      <th>25%</th>\n",
       "      <td>15931.750000</td>\n",
       "      <td>40.692462</td>\n",
       "      <td>-73.984003</td>\n",
       "      <td>75.000000</td>\n",
       "      <td>1.000000</td>\n",
       "      <td>1.000000</td>\n",
       "      <td>0.240000</td>\n",
       "      <td>7.388002e+06</td>\n",
       "      <td>1.000000</td>\n",
       "      <td>0.000000</td>\n",
       "    </tr>\n",
       "    <tr>\n",
       "      <th>50%</th>\n",
       "      <td>28946.500000</td>\n",
       "      <td>40.728250</td>\n",
       "      <td>-73.956720</td>\n",
       "      <td>120.000000</td>\n",
       "      <td>3.000000</td>\n",
       "      <td>4.000000</td>\n",
       "      <td>0.650000</td>\n",
       "      <td>3.352708e+07</td>\n",
       "      <td>1.000000</td>\n",
       "      <td>0.000000</td>\n",
       "    </tr>\n",
       "    <tr>\n",
       "      <th>75%</th>\n",
       "      <td>38478.500000</td>\n",
       "      <td>40.762658</td>\n",
       "      <td>-73.934202</td>\n",
       "      <td>200.000000</td>\n",
       "      <td>6.000000</td>\n",
       "      <td>16.000000</td>\n",
       "      <td>1.530000</td>\n",
       "      <td>1.207625e+08</td>\n",
       "      <td>3.000000</td>\n",
       "      <td>1.000000</td>\n",
       "    </tr>\n",
       "    <tr>\n",
       "      <th>max</th>\n",
       "      <td>48893.000000</td>\n",
       "      <td>40.898730</td>\n",
       "      <td>-73.721730</td>\n",
       "      <td>9999.000000</td>\n",
       "      <td>999.000000</td>\n",
       "      <td>395.000000</td>\n",
       "      <td>10.370000</td>\n",
       "      <td>2.738123e+08</td>\n",
       "      <td>327.000000</td>\n",
       "      <td>1.000000</td>\n",
       "    </tr>\n",
       "  </tbody>\n",
       "</table>\n",
       "</div>"
      ],
      "text/plain": [
       "                 id     latitude    longitude         cost  minimum_nights  \\\n",
       "count   2870.000000  2870.000000  2870.000000  2870.000000     2870.000000   \n",
       "mean   26760.657143    40.731224   -73.950158   195.943206       11.530314   \n",
       "std    14140.930062     0.054942     0.049745   406.184714       37.972339   \n",
       "min        0.000000    40.507080   -74.242850    10.000000        1.000000   \n",
       "25%    15931.750000    40.692462   -73.984003    75.000000        1.000000   \n",
       "50%    28946.500000    40.728250   -73.956720   120.000000        3.000000   \n",
       "75%    38478.500000    40.762658   -73.934202   200.000000        6.000000   \n",
       "max    48893.000000    40.898730   -73.721730  9999.000000      999.000000   \n",
       "\n",
       "       number_of_reviews  reviews_per_month      owner_id  owned_hotels  \\\n",
       "count        2870.000000        2194.000000  2.870000e+03   2870.000000   \n",
       "mean           16.315331           1.157502  7.202195e+07      8.411498   \n",
       "std            32.481722           1.355028  8.076516e+07     27.105522   \n",
       "min             0.000000           0.010000  2.787000e+03      1.000000   \n",
       "25%             1.000000           0.240000  7.388002e+06      1.000000   \n",
       "50%             4.000000           0.650000  3.352708e+07      1.000000   \n",
       "75%            16.000000           1.530000  1.207625e+08      3.000000   \n",
       "max           395.000000          10.370000  2.738123e+08    327.000000   \n",
       "\n",
       "       yearly_availability  \n",
       "count          2870.000000  \n",
       "mean              0.498606  \n",
       "std               0.500085  \n",
       "min               0.000000  \n",
       "25%               0.000000  \n",
       "50%               0.000000  \n",
       "75%               1.000000  \n",
       "max               1.000000  "
      ]
     },
     "execution_count": 7,
     "metadata": {},
     "output_type": "execute_result"
    }
   ],
   "source": [
    "#Description\n",
    "data.describe()"
   ]
  },
  {
   "cell_type": "code",
   "execution_count": 8,
   "metadata": {
    "colab": {},
    "colab_type": "code",
    "id": "Vel-7S7gIKR9"
   },
   "outputs": [
    {
     "name": "stdout",
     "output_type": "stream",
     "text": [
      "<class 'pandas.core.frame.DataFrame'>\n",
      "RangeIndex: 2870 entries, 0 to 2869\n",
      "Data columns (total 12 columns):\n",
      "id                     2870 non-null int64\n",
      "region                 2870 non-null object\n",
      "latitude               2870 non-null float64\n",
      "longitude              2870 non-null float64\n",
      "accommodation_type     2870 non-null object\n",
      "cost                   2870 non-null int64\n",
      "minimum_nights         2870 non-null int64\n",
      "number_of_reviews      2870 non-null int64\n",
      "reviews_per_month      2194 non-null float64\n",
      "owner_id               2870 non-null int64\n",
      "owned_hotels           2870 non-null int64\n",
      "yearly_availability    2870 non-null int64\n",
      "dtypes: float64(3), int64(7), object(2)\n",
      "memory usage: 269.2+ KB\n"
     ]
    }
   ],
   "source": [
    "data.info()\n",
    "\n",
    "# The number of non-null values in the reviews_per_month is inconsistent as compared to the other fields."
   ]
  },
  {
   "cell_type": "code",
   "execution_count": 9,
   "metadata": {
    "colab": {},
    "colab_type": "code",
    "id": "fp1nvdh-IKSE"
   },
   "outputs": [
    {
     "data": {
      "text/plain": [
       "id                       0\n",
       "region                   0\n",
       "latitude                 0\n",
       "longitude                0\n",
       "accommodation_type       0\n",
       "cost                     0\n",
       "minimum_nights           0\n",
       "number_of_reviews        0\n",
       "reviews_per_month      676\n",
       "owner_id                 0\n",
       "owned_hotels             0\n",
       "yearly_availability      0\n",
       "dtype: int64"
      ]
     },
     "execution_count": 9,
     "metadata": {},
     "output_type": "execute_result"
    }
   ],
   "source": [
    "# Looking for number of missing values in each of the columns\n",
    "\n",
    "data.isna().sum()"
   ]
  },
  {
   "cell_type": "markdown",
   "metadata": {
    "colab": {},
    "colab_type": "code",
    "id": "px5KNTQ7IKSK"
   },
   "source": [
    "- So we clearly see that there are missing values in the reviews_per_month column. While we think of a way to handle the missing values, it is important to check if the missing values are correlated to any other columns in any manner. "
   ]
  },
  {
   "cell_type": "code",
   "execution_count": 10,
   "metadata": {
    "colab": {},
    "colab_type": "code",
    "id": "W9B6xKGpIKSQ"
   },
   "outputs": [
    {
     "data": {
      "text/plain": [
       "Text(0.5, 1, 'Heatmap of missing values')"
      ]
     },
     "execution_count": 10,
     "metadata": {},
     "output_type": "execute_result"
    },
    {
     "data": {
      "image/png": "[encoded data removed]",
      "text/plain": [
       "<Figure size 648x432 with 1 Axes>"
      ]
     },
     "metadata": {
      "needs_background": "light"
     },
     "output_type": "display_data"
    }
   ],
   "source": [
    "# Finding the scale of missing data.\n",
    "plt.figure(figsize=(9,6))\n",
    "sns.heatmap(data.isnull(), cbar=False)\n",
    "plt.title(\"Heatmap of missing values\")"
   ]
  },
  {
   "cell_type": "code",
   "execution_count": 11,
   "metadata": {},
   "outputs": [
    {
     "data": {
      "text/html": [
       "<div>\n",
       "<style scoped>\n",
       "    .dataframe tbody tr th:only-of-type {\n",
       "        vertical-align: middle;\n",
       "    }\n",
       "\n",
       "    .dataframe tbody tr th {\n",
       "        vertical-align: top;\n",
       "    }\n",
       "\n",
       "    .dataframe thead th {\n",
       "        text-align: right;\n",
       "    }\n",
       "</style>\n",
       "<table border=\"1\" class=\"dataframe\">\n",
       "  <thead>\n",
       "    <tr style=\"text-align: right;\">\n",
       "      <th></th>\n",
       "      <th>id</th>\n",
       "      <th>region</th>\n",
       "      <th>latitude</th>\n",
       "      <th>longitude</th>\n",
       "      <th>accommodation_type</th>\n",
       "      <th>cost</th>\n",
       "      <th>minimum_nights</th>\n",
       "      <th>number_of_reviews</th>\n",
       "      <th>reviews_per_month</th>\n",
       "      <th>owner_id</th>\n",
       "      <th>owned_hotels</th>\n",
       "      <th>yearly_availability</th>\n",
       "    </tr>\n",
       "  </thead>\n",
       "  <tbody>\n",
       "    <tr>\n",
       "      <th>0</th>\n",
       "      <td>13232</td>\n",
       "      <td>Manhattan</td>\n",
       "      <td>40.71854</td>\n",
       "      <td>-74.00439</td>\n",
       "      <td>Entire home/apt</td>\n",
       "      <td>170</td>\n",
       "      <td>5</td>\n",
       "      <td>7</td>\n",
       "      <td>0.56</td>\n",
       "      <td>929983</td>\n",
       "      <td>1</td>\n",
       "      <td>0</td>\n",
       "    </tr>\n",
       "    <tr>\n",
       "      <th>1</th>\n",
       "      <td>246</td>\n",
       "      <td>Brooklyn</td>\n",
       "      <td>40.64446</td>\n",
       "      <td>-73.95030</td>\n",
       "      <td>Entire home/apt</td>\n",
       "      <td>65</td>\n",
       "      <td>3</td>\n",
       "      <td>238</td>\n",
       "      <td>2.30</td>\n",
       "      <td>281764</td>\n",
       "      <td>1</td>\n",
       "      <td>0</td>\n",
       "    </tr>\n",
       "    <tr>\n",
       "      <th>2</th>\n",
       "      <td>19091</td>\n",
       "      <td>Queens</td>\n",
       "      <td>40.78573</td>\n",
       "      <td>-73.81062</td>\n",
       "      <td>Private room</td>\n",
       "      <td>85</td>\n",
       "      <td>1</td>\n",
       "      <td>0</td>\n",
       "      <td>NaN</td>\n",
       "      <td>19923341</td>\n",
       "      <td>1</td>\n",
       "      <td>1</td>\n",
       "    </tr>\n",
       "    <tr>\n",
       "      <th>3</th>\n",
       "      <td>34305</td>\n",
       "      <td>Manhattan</td>\n",
       "      <td>40.73863</td>\n",
       "      <td>-73.98002</td>\n",
       "      <td>Private room</td>\n",
       "      <td>210</td>\n",
       "      <td>30</td>\n",
       "      <td>0</td>\n",
       "      <td>NaN</td>\n",
       "      <td>200380610</td>\n",
       "      <td>65</td>\n",
       "      <td>1</td>\n",
       "    </tr>\n",
       "    <tr>\n",
       "      <th>4</th>\n",
       "      <td>444</td>\n",
       "      <td>Manhattan</td>\n",
       "      <td>40.82426</td>\n",
       "      <td>-73.94630</td>\n",
       "      <td>Shared room</td>\n",
       "      <td>75</td>\n",
       "      <td>3</td>\n",
       "      <td>38</td>\n",
       "      <td>0.42</td>\n",
       "      <td>745069</td>\n",
       "      <td>3</td>\n",
       "      <td>1</td>\n",
       "    </tr>\n",
       "    <tr>\n",
       "      <th>...</th>\n",
       "      <td>...</td>\n",
       "      <td>...</td>\n",
       "      <td>...</td>\n",
       "      <td>...</td>\n",
       "      <td>...</td>\n",
       "      <td>...</td>\n",
       "      <td>...</td>\n",
       "      <td>...</td>\n",
       "      <td>...</td>\n",
       "      <td>...</td>\n",
       "      <td>...</td>\n",
       "      <td>...</td>\n",
       "    </tr>\n",
       "    <tr>\n",
       "      <th>2865</th>\n",
       "      <td>47852</td>\n",
       "      <td>Manhattan</td>\n",
       "      <td>40.74316</td>\n",
       "      <td>-73.98038</td>\n",
       "      <td>Private room</td>\n",
       "      <td>400</td>\n",
       "      <td>2</td>\n",
       "      <td>0</td>\n",
       "      <td>NaN</td>\n",
       "      <td>270096906</td>\n",
       "      <td>1</td>\n",
       "      <td>1</td>\n",
       "    </tr>\n",
       "    <tr>\n",
       "      <th>2866</th>\n",
       "      <td>21978</td>\n",
       "      <td>Manhattan</td>\n",
       "      <td>40.73523</td>\n",
       "      <td>-73.99465</td>\n",
       "      <td>Private room</td>\n",
       "      <td>180</td>\n",
       "      <td>3</td>\n",
       "      <td>2</td>\n",
       "      <td>0.07</td>\n",
       "      <td>97266110</td>\n",
       "      <td>1</td>\n",
       "      <td>1</td>\n",
       "    </tr>\n",
       "    <tr>\n",
       "      <th>2867</th>\n",
       "      <td>23485</td>\n",
       "      <td>Manhattan</td>\n",
       "      <td>40.76619</td>\n",
       "      <td>-73.98987</td>\n",
       "      <td>Entire home/apt</td>\n",
       "      <td>179</td>\n",
       "      <td>3</td>\n",
       "      <td>17</td>\n",
       "      <td>0.67</td>\n",
       "      <td>10903067</td>\n",
       "      <td>1</td>\n",
       "      <td>0</td>\n",
       "    </tr>\n",
       "    <tr>\n",
       "      <th>2868</th>\n",
       "      <td>16757</td>\n",
       "      <td>Manhattan</td>\n",
       "      <td>40.74637</td>\n",
       "      <td>-73.97207</td>\n",
       "      <td>Private room</td>\n",
       "      <td>200</td>\n",
       "      <td>30</td>\n",
       "      <td>0</td>\n",
       "      <td>NaN</td>\n",
       "      <td>2856748</td>\n",
       "      <td>49</td>\n",
       "      <td>1</td>\n",
       "    </tr>\n",
       "    <tr>\n",
       "      <th>2869</th>\n",
       "      <td>2355</td>\n",
       "      <td>Manhattan</td>\n",
       "      <td>40.79208</td>\n",
       "      <td>-73.96482</td>\n",
       "      <td>Shared room</td>\n",
       "      <td>1000</td>\n",
       "      <td>30</td>\n",
       "      <td>24</td>\n",
       "      <td>0.33</td>\n",
       "      <td>836168</td>\n",
       "      <td>11</td>\n",
       "      <td>1</td>\n",
       "    </tr>\n",
       "  </tbody>\n",
       "</table>\n",
       "<p>2870 rows × 12 columns</p>\n",
       "</div>"
      ],
      "text/plain": [
       "         id     region  latitude  longitude accommodation_type  cost  \\\n",
       "0     13232  Manhattan  40.71854  -74.00439    Entire home/apt   170   \n",
       "1       246   Brooklyn  40.64446  -73.95030    Entire home/apt    65   \n",
       "2     19091     Queens  40.78573  -73.81062       Private room    85   \n",
       "3     34305  Manhattan  40.73863  -73.98002       Private room   210   \n",
       "4       444  Manhattan  40.82426  -73.94630        Shared room    75   \n",
       "...     ...        ...       ...        ...                ...   ...   \n",
       "2865  47852  Manhattan  40.74316  -73.98038       Private room   400   \n",
       "2866  21978  Manhattan  40.73523  -73.99465       Private room   180   \n",
       "2867  23485  Manhattan  40.76619  -73.98987    Entire home/apt   179   \n",
       "2868  16757  Manhattan  40.74637  -73.97207       Private room   200   \n",
       "2869   2355  Manhattan  40.79208  -73.96482        Shared room  1000   \n",
       "\n",
       "      minimum_nights  number_of_reviews  reviews_per_month   owner_id  \\\n",
       "0                  5                  7               0.56     929983   \n",
       "1                  3                238               2.30     281764   \n",
       "2                  1                  0                NaN   19923341   \n",
       "3                 30                  0                NaN  200380610   \n",
       "4                  3                 38               0.42     745069   \n",
       "...              ...                ...                ...        ...   \n",
       "2865               2                  0                NaN  270096906   \n",
       "2866               3                  2               0.07   97266110   \n",
       "2867               3                 17               0.67   10903067   \n",
       "2868              30                  0                NaN    2856748   \n",
       "2869              30                 24               0.33     836168   \n",
       "\n",
       "      owned_hotels  yearly_availability  \n",
       "0                1                    0  \n",
       "1                1                    0  \n",
       "2                1                    1  \n",
       "3               65                    1  \n",
       "4                3                    1  \n",
       "...            ...                  ...  \n",
       "2865             1                    1  \n",
       "2866             1                    1  \n",
       "2867             1                    0  \n",
       "2868            49                    1  \n",
       "2869            11                    1  \n",
       "\n",
       "[2870 rows x 12 columns]"
      ]
     },
     "execution_count": 11,
     "metadata": {},
     "output_type": "execute_result"
    }
   ],
   "source": [
    "data"
   ]
  },
  {
   "cell_type": "markdown",
   "metadata": {},
   "source": [
    "- In the above dataframe, there is an interesting observation that will logically justify the missing values. The number_of_reviews column has some hotels that have zero reviews, which is why the review_per_month corresponding to that value has a Null value. So in that case the review_per_month can be set as 0 wherever there is a 0 encountered in number_of_reviews."
   ]
  },
  {
   "cell_type": "code",
   "execution_count": 12,
   "metadata": {},
   "outputs": [
    {
     "data": {
      "image/png": "[encoded data removed]",
      "text/plain": [
       "<Figure size 432x288 with 1 Axes>"
      ]
     },
     "metadata": {
      "needs_background": "light"
     },
     "output_type": "display_data"
    }
   ],
   "source": [
    "# Verifying our observation\n",
    "\n",
    "import matplotlib.pyplot as plt\n",
    "plt.scatter(data['number_of_reviews']==0, data['reviews_per_month'])\n",
    "plt.show() "
   ]
  },
  {
   "cell_type": "markdown",
   "metadata": {},
   "source": [
    "- Filling the missing values with zero as explained above "
   ]
  },
  {
   "cell_type": "code",
   "execution_count": 13,
   "metadata": {},
   "outputs": [],
   "source": [
    "data['reviews_per_month'] = data['reviews_per_month'].fillna(0)"
   ]
  },
  {
   "cell_type": "code",
   "execution_count": 14,
   "metadata": {},
   "outputs": [
    {
     "data": {
      "text/plain": [
       "id                     0\n",
       "region                 0\n",
       "latitude               0\n",
       "longitude              0\n",
       "accommodation_type     0\n",
       "cost                   0\n",
       "minimum_nights         0\n",
       "number_of_reviews      0\n",
       "reviews_per_month      0\n",
       "owner_id               0\n",
       "owned_hotels           0\n",
       "yearly_availability    0\n",
       "dtype: int64"
      ]
     },
     "execution_count": 14,
     "metadata": {},
     "output_type": "execute_result"
    }
   ],
   "source": [
    "data.isna().sum()"
   ]
  },
  {
   "cell_type": "code",
   "execution_count": 15,
   "metadata": {},
   "outputs": [],
   "source": [
    "df_check=data[['number_of_reviews','minimum_nights','cost','owned_hotels','reviews_per_month']].copy()"
   ]
  },
  {
   "cell_type": "code",
   "execution_count": 16,
   "metadata": {},
   "outputs": [
    {
     "data": {
      "image/png": "[encoded data removed]",
      "text/plain": [
       "<Figure size 1440x720 with 5 Axes>"
      ]
     },
     "metadata": {
      "needs_background": "light"
     },
     "output_type": "display_data"
    }
   ],
   "source": [
    "dot = dict(markerfacecolor='red', marker='o', markeredgecolor='white')\n",
    "\n",
    "fig, axs = plt.subplots(1, len(df_check.columns), figsize=(20,10))\n",
    "\n",
    "for i, ax in enumerate(axs.flat):\n",
    "    ax.boxplot(df_check.iloc[:,i], flierprops=dot)\n",
    "    ax.set_title(df_check.columns[i], fontsize=16, fontweight='bold')\n",
    "    ax.tick_params(axis='y', labelsize=15)\n",
    "plt.tight_layout()"
   ]
  },
  {
   "cell_type": "markdown",
   "metadata": {},
   "source": [
    "- In the above boxplot outlier visualization, I have removed the columns that are not applicable for outlier detection(for example- Latitude, Longitude, id, owner id and also the categorical values)"
   ]
  },
  {
   "cell_type": "markdown",
   "metadata": {},
   "source": [
    "#### Observations:\n"
   ]
  },
  {
   "cell_type": "markdown",
   "metadata": {},
   "source": [
    "- Some of these values have extreme values, such as cost which has the highest value of 10000 dollars, and may introduce some errors while training our model.\n",
    "- Similarly there are other outliers in the dataset that we need to remove for our model to generalise well.\n",
    "- Therefore the data is needed to be capped by using a statiscal method to find the outliers."
   ]
  },
  {
   "cell_type": "code",
   "execution_count": 17,
   "metadata": {},
   "outputs": [],
   "source": [
    "# Below we cap the upper and lower limit of outlying values.\n",
    "\n",
    "df_org=data.copy()\n",
    "df_org\n",
    "\n",
    "col_names=['number_of_reviews','minimum_nights','cost','owned_hotels','reviews_per_month']\n",
    "for i in col_names:\n",
    "    upper_limit = data[i].mean() + 3*data[i].std()\n",
    "    lower_limit = data[i].mean() - 3*data[i].std()\n",
    "\n",
    "    data[i] = np.where(\n",
    "        data[i]>upper_limit,\n",
    "        upper_limit,\n",
    "        np.where(\n",
    "            data[i]<lower_limit,\n",
    "            lower_limit,\n",
    "            data[i]\n",
    "        )\n",
    "    )"
   ]
  },
  {
   "cell_type": "markdown",
   "metadata": {},
   "source": [
    "- I have capped the outliers in the above cell, using z score. Now I will compare the original dataframe and the outlier capped new dataframe. To compare I will use a heatmap to find if the correlation between the columns have increased or not"
   ]
  },
  {
   "cell_type": "code",
   "execution_count": 18,
   "metadata": {},
   "outputs": [
    {
     "data": {
      "text/html": [
       "<div>\n",
       "<style scoped>\n",
       "    .dataframe tbody tr th:only-of-type {\n",
       "        vertical-align: middle;\n",
       "    }\n",
       "\n",
       "    .dataframe tbody tr th {\n",
       "        vertical-align: top;\n",
       "    }\n",
       "\n",
       "    .dataframe thead th {\n",
       "        text-align: right;\n",
       "    }\n",
       "</style>\n",
       "<table border=\"1\" class=\"dataframe\">\n",
       "  <thead>\n",
       "    <tr style=\"text-align: right;\">\n",
       "      <th></th>\n",
       "      <th>id</th>\n",
       "      <th>region</th>\n",
       "      <th>latitude</th>\n",
       "      <th>longitude</th>\n",
       "      <th>accommodation_type</th>\n",
       "      <th>cost</th>\n",
       "      <th>minimum_nights</th>\n",
       "      <th>number_of_reviews</th>\n",
       "      <th>reviews_per_month</th>\n",
       "      <th>owner_id</th>\n",
       "      <th>owned_hotels</th>\n",
       "      <th>yearly_availability</th>\n",
       "    </tr>\n",
       "  </thead>\n",
       "  <tbody>\n",
       "    <tr>\n",
       "      <th>0</th>\n",
       "      <td>13232</td>\n",
       "      <td>2</td>\n",
       "      <td>40.71854</td>\n",
       "      <td>-74.00439</td>\n",
       "      <td>0</td>\n",
       "      <td>170.0</td>\n",
       "      <td>5.0</td>\n",
       "      <td>7.000000</td>\n",
       "      <td>0.56</td>\n",
       "      <td>929983</td>\n",
       "      <td>1.0</td>\n",
       "      <td>0</td>\n",
       "    </tr>\n",
       "    <tr>\n",
       "      <th>1</th>\n",
       "      <td>246</td>\n",
       "      <td>1</td>\n",
       "      <td>40.64446</td>\n",
       "      <td>-73.95030</td>\n",
       "      <td>0</td>\n",
       "      <td>65.0</td>\n",
       "      <td>3.0</td>\n",
       "      <td>113.760497</td>\n",
       "      <td>2.30</td>\n",
       "      <td>281764</td>\n",
       "      <td>1.0</td>\n",
       "      <td>0</td>\n",
       "    </tr>\n",
       "    <tr>\n",
       "      <th>2</th>\n",
       "      <td>19091</td>\n",
       "      <td>3</td>\n",
       "      <td>40.78573</td>\n",
       "      <td>-73.81062</td>\n",
       "      <td>1</td>\n",
       "      <td>85.0</td>\n",
       "      <td>1.0</td>\n",
       "      <td>0.000000</td>\n",
       "      <td>0.00</td>\n",
       "      <td>19923341</td>\n",
       "      <td>1.0</td>\n",
       "      <td>1</td>\n",
       "    </tr>\n",
       "    <tr>\n",
       "      <th>3</th>\n",
       "      <td>34305</td>\n",
       "      <td>2</td>\n",
       "      <td>40.73863</td>\n",
       "      <td>-73.98002</td>\n",
       "      <td>1</td>\n",
       "      <td>210.0</td>\n",
       "      <td>30.0</td>\n",
       "      <td>0.000000</td>\n",
       "      <td>0.00</td>\n",
       "      <td>200380610</td>\n",
       "      <td>65.0</td>\n",
       "      <td>1</td>\n",
       "    </tr>\n",
       "    <tr>\n",
       "      <th>4</th>\n",
       "      <td>444</td>\n",
       "      <td>2</td>\n",
       "      <td>40.82426</td>\n",
       "      <td>-73.94630</td>\n",
       "      <td>2</td>\n",
       "      <td>75.0</td>\n",
       "      <td>3.0</td>\n",
       "      <td>38.000000</td>\n",
       "      <td>0.42</td>\n",
       "      <td>745069</td>\n",
       "      <td>3.0</td>\n",
       "      <td>1</td>\n",
       "    </tr>\n",
       "  </tbody>\n",
       "</table>\n",
       "</div>"
      ],
      "text/plain": [
       "      id  region  latitude  longitude  accommodation_type   cost  \\\n",
       "0  13232       2  40.71854  -74.00439                   0  170.0   \n",
       "1    246       1  40.64446  -73.95030                   0   65.0   \n",
       "2  19091       3  40.78573  -73.81062                   1   85.0   \n",
       "3  34305       2  40.73863  -73.98002                   1  210.0   \n",
       "4    444       2  40.82426  -73.94630                   2   75.0   \n",
       "\n",
       "   minimum_nights  number_of_reviews  reviews_per_month   owner_id  \\\n",
       "0             5.0           7.000000               0.56     929983   \n",
       "1             3.0         113.760497               2.30     281764   \n",
       "2             1.0           0.000000               0.00   19923341   \n",
       "3            30.0           0.000000               0.00  200380610   \n",
       "4             3.0          38.000000               0.42     745069   \n",
       "\n",
       "   owned_hotels  yearly_availability  \n",
       "0           1.0                    0  \n",
       "1           1.0                    0  \n",
       "2           1.0                    1  \n",
       "3          65.0                    1  \n",
       "4           3.0                    1  "
      ]
     },
     "execution_count": 18,
     "metadata": {},
     "output_type": "execute_result"
    }
   ],
   "source": [
    "# Next I will convert the string values into integer values by using label encoder.\n",
    "labelencoder = LabelEncoder()\n",
    "data['region'] = labelencoder.fit_transform(data['region'])\n",
    "data['accommodation_type'] = labelencoder.fit_transform(data['accommodation_type'])\n",
    "data.head()"
   ]
  },
  {
   "cell_type": "code",
   "execution_count": 19,
   "metadata": {},
   "outputs": [
    {
     "data": {
      "image/png": "[encoded data removed]",
      "text/plain": [
       "<Figure size 864x576 with 2 Axes>"
      ]
     },
     "metadata": {
      "needs_background": "light"
     },
     "output_type": "display_data"
    },
    {
     "data": {
      "image/png": "[encoded data removed]",
      "text/plain": [
       "<Figure size 864x576 with 2 Axes>"
      ]
     },
     "metadata": {
      "needs_background": "light"
     },
     "output_type": "display_data"
    }
   ],
   "source": [
    "# Below we plot the correlation matrix of the original dataframe to see the feature dependecies\n",
    "heatm=[df_org,data]\n",
    "for i in heatm:\n",
    "    cor=i.corr()\n",
    "    plt.figure(figsize=(12,8))\n",
    "    sns.heatmap(cor, annot=True, cmap=\"coolwarm\")\n",
    "    plt.xticks(fontsize= 11)\n",
    "    plt.title(\"Dataframe HeatMap\",fontsize= 11)\n",
    "    plt.yticks(fontsize= 11)"
   ]
  },
  {
   "cell_type": "markdown",
   "metadata": {},
   "source": [
    "- The first heatmap is from the original dataframe, the second heatmap is from the capped dataframe with changed distribution.\n",
    "- As we can see in the second heatmap there are a lot of tiles where the values of the correlation between two entities have increased. Therefore increasing the feature dependencies and helping our model to train better."
   ]
  },
  {
   "cell_type": "markdown",
   "metadata": {
    "colab_type": "text",
    "id": "ymsdDaIPIKSX"
   },
   "source": [
    "## Visualization, Modeling, Machine Learning\n",
    "\n",
    "Build a model that categorizes hotels on the basis of their yearly availability.  Identify how different features influence the decision. Please explain the findings effectively to technical and non-technical audiences using comments and visualizations, if appropriate.\n",
    "- **Build an optimized model that effectively solves the business problem.**\n",
    "- **The model will be evaluated on the basis of Accuracy.**\n",
    "- **Read the test.csv file and prepare features for testing.**"
   ]
  },
  {
   "cell_type": "markdown",
   "metadata": {},
   "source": [
    "### Part 2: Visualization and Analysis:"
   ]
  },
  {
   "cell_type": "code",
   "execution_count": 20,
   "metadata": {},
   "outputs": [
    {
     "data": {
      "text/plain": [
       "Text(0.5, 1.0, 'Cost vs Availability')"
      ]
     },
     "execution_count": 20,
     "metadata": {},
     "output_type": "execute_result"
    },
    {
     "data": {
      "image/png": "[encoded data removed]",
      "text/plain": [
       "<Figure size 936x576 with 1 Axes>"
      ]
     },
     "metadata": {
      "needs_background": "light"
     },
     "output_type": "display_data"
    }
   ],
   "source": [
    "# Below is the plot to find the density overlap between cost of the booking and the yearly availability\n",
    "\n",
    "plt.figure(figsize=(13,8))\n",
    "\n",
    "sns.kdeplot( data.cost[data.yearly_availability==1], color=\"red\", shade=True)\n",
    "\n",
    "sns.kdeplot( data.cost[data.yearly_availability==0], color=\"blue\", shade=True)\n",
    "\n",
    "plt.legend([\"Available\",\"Unavailable\"])\n",
    "plt.title(\"Cost vs Availability\")\n"
   ]
  },
  {
   "cell_type": "markdown",
   "metadata": {},
   "source": [
    "- From the above plot it shows that many of the expensive booking manage to be available throughout the year more than the inexpensive hotels"
   ]
  },
  {
   "cell_type": "code",
   "execution_count": 21,
   "metadata": {},
   "outputs": [
    {
     "data": {
      "text/plain": [
       "<matplotlib.axes._subplots.AxesSubplot at 0x7f4fa0a555d0>"
      ]
     },
     "execution_count": 21,
     "metadata": {},
     "output_type": "execute_result"
    },
    {
     "data": {
      "image/png": "[encoded data removed]",
      "text/plain": [
       "<Figure size 936x576 with 1 Axes>"
      ]
     },
     "metadata": {
      "needs_background": "light"
     },
     "output_type": "display_data"
    }
   ],
   "source": [
    "# Below we compare the accomodation types with their availability\n",
    "\n",
    "group=data.groupby([data['yearly_availability'], data[\"accommodation_type\"]]).size()\n",
    "group_pd=group.unstack(level=1)\n",
    "group_pd.plot(kind='bar', figsize=(13,8))"
   ]
  },
  {
   "cell_type": "markdown",
   "metadata": {},
   "source": [
    "- From the above plot we can gather that the 0(Private room/apt) is the least available throughout the year, whereas the 1 (Private rooms) are the most reliable for the customer to be available throughout the year. \n",
    "- At last the shared bedroom have a similar distribution for being available and unavailble for 365 days. Hence if the company wants more reliable 365 days booking infrastructure, it would be advisable to invest in the Private rooms since it is performing poorly. "
   ]
  },
  {
   "cell_type": "code",
   "execution_count": 22,
   "metadata": {},
   "outputs": [
    {
     "data": {
      "text/plain": [
       "<matplotlib.axes._subplots.AxesSubplot at 0x7f4fa0547290>"
      ]
     },
     "execution_count": 22,
     "metadata": {},
     "output_type": "execute_result"
    },
    {
     "data": {
      "image/png": "[encoded data removed]",
      "text/plain": [
       "<Figure size 936x576 with 1 Axes>"
      ]
     },
     "metadata": {
      "needs_background": "light"
     },
     "output_type": "display_data"
    }
   ],
   "source": [
    "# Similarly, below we compare the regions with their availability\n",
    "group=data.groupby([data['yearly_availability'], data[\"region\"]]).size()\n",
    "group_pd=group.unstack(level=1)\n",
    "group_pd.plot(kind='bar', figsize=(13,8))"
   ]
  },
  {
   "cell_type": "code",
   "execution_count": 23,
   "metadata": {},
   "outputs": [
    {
     "data": {
      "text/plain": [
       "<matplotlib.axes._subplots.AxesSubplot at 0x7f4fa04d2d90>"
      ]
     },
     "execution_count": 23,
     "metadata": {},
     "output_type": "execute_result"
    },
    {
     "data": {
      "image/png": "[encoded data removed]",
      "text/plain": [
       "<Figure size 720x576 with 1 Axes>"
      ]
     },
     "metadata": {
      "needs_background": "light"
     },
     "output_type": "display_data"
    }
   ],
   "source": [
    "plt.figure(figsize=(10,8))\n",
    "sns.scatterplot(data=df_org, x='number_of_reviews', y='reviews_per_month',hue='yearly_availability',palette=\"deep\")"
   ]
  },
  {
   "cell_type": "markdown",
   "metadata": {},
   "source": [
    "- The above plot shows that the number of reviews are more for well performing hotels(yearly available). This could be due to the fact that the customers are happy and the hotel gets reviewed by the customer on an average basis. But if you see that many non yearly available hotels have less total number of reviews but reviews per month are high. \n",
    "- This could be due to the fact that the hotel could be newly opened (for the extremes). Or because the customers are going out of their way to leave reviews because of great incidents or bad incidents. \n",
    "- This could be a very insightful observation if the data for customer reviews is compared with this observation. Since it can tell us in what cases customers go out of their way to leave a review about the hotel. "
   ]
  },
  {
   "cell_type": "code",
   "execution_count": 24,
   "metadata": {},
   "outputs": [
    {
     "data": {
      "text/plain": [
       "<matplotlib.axes._subplots.AxesSubplot at 0x7f4fa03f3b50>"
      ]
     },
     "execution_count": 24,
     "metadata": {},
     "output_type": "execute_result"
    },
    {
     "data": {
      "image/png": "[encoded data removed]",
      "text/plain": [
       "<Figure size 720x576 with 1 Axes>"
      ]
     },
     "metadata": {
      "needs_background": "light"
     },
     "output_type": "display_data"
    }
   ],
   "source": [
    "plt.figure(figsize=(10,8))\n",
    "sns.scatterplot(data=data, x='cost', y='minimum_nights',hue='yearly_availability',palette=\"deep\")"
   ]
  },
  {
   "cell_type": "markdown",
   "metadata": {},
   "source": [
    "- The above figure shows us that the cost of the hotel when the cost is high or minimum nights are more then they are more likely to be available. This could be due to the fact that they are able to sustain throughout the year. \n",
    "- There is an interesting observation here, it looks like the hotels need minimum of 30 nights stay in order to be more likely to be available throughout the night. As we can see that as we move above the 30 minimum nights cap, there are fewer hotels that might not be available. Interestingly many hotels have actually set the minimum limit at 30 nights. \n",
    "- Below the 30 minimum_nights value many hotels are not available, even a few expensive hotels ones are not available! What could this attribute from? This could be because they might be very popular among the customers, therefore the hotels with low cost and lesser minimum_nights are sold out quickly and unavailable throguhout the year.\n",
    "- I am also assuming here that the hotel does not accept booking and is unavailable if it is fully booked, since it is not said otherwise."
   ]
  },
  {
   "cell_type": "code",
   "execution_count": 25,
   "metadata": {},
   "outputs": [
    {
     "name": "stdout",
     "output_type": "stream",
     "text": [
      "yearly_availability\n",
      "0    1439\n",
      "1    1431\n",
      "dtype: int64\n"
     ]
    },
    {
     "data": {
      "text/plain": [
       "<matplotlib.axes._subplots.AxesSubplot at 0x7f4fa03d9a90>"
      ]
     },
     "execution_count": 25,
     "metadata": {},
     "output_type": "execute_result"
    },
    {
     "data": {
      "image/png": "[encoded data removed]",
      "text/plain": [
       "<Figure size 432x288 with 1 Axes>"
      ]
     },
     "metadata": {
      "needs_background": "light"
     },
     "output_type": "display_data"
    }
   ],
   "source": [
    "print(data.groupby('yearly_availability').size())\n",
    "\n",
    "sns.countplot(x=\"yearly_availability\", data=data)"
   ]
  },
  {
   "cell_type": "markdown",
   "metadata": {},
   "source": [
    "- The above plot shows that there is little/no class imbalance, therefore we can train our model on the data given, as it is."
   ]
  },
  {
   "cell_type": "markdown",
   "metadata": {},
   "source": [
    "### Part 3: Feature Engineering"
   ]
  },
  {
   "cell_type": "markdown",
   "metadata": {},
   "source": [
    "- Applying feature Engineering to increase our data and make it more robustly correlated"
   ]
  },
  {
   "cell_type": "code",
   "execution_count": 26,
   "metadata": {},
   "outputs": [],
   "source": [
    "# Below I use a simple technique to map the latitudes and longitudes to 3 dimensions\n",
    "\n",
    "data['x']= np.cos(data['latitude'])*np.cos(data['longitude'])\n",
    "data['y']= np.cos(data['latitude'])*np.sin(data['longitude'])\n",
    "data['z']= np.sin(data['latitude'])"
   ]
  },
  {
   "cell_type": "code",
   "execution_count": 27,
   "metadata": {},
   "outputs": [],
   "source": [
    "# Below I created 2 new columns\n",
    "# 1. months_of_reviews which has the month count since the start.\n",
    "# 2. min_cost_of_stay which has the minimum cost of the stay that the customer has to pay on his stay.\n",
    "# I specifically used these features for feature engineering because of their high correlation with the target\n",
    "\n",
    "\n",
    "data['months_of_reviews']=data['reviews_per_month']/data['number_of_reviews']\n",
    "data['min_cost_of_stay']=data['minimum_nights']*data['cost']\n",
    "data['months_of_reviews']=data['months_of_reviews'].fillna(0)"
   ]
  },
  {
   "cell_type": "code",
   "execution_count": 28,
   "metadata": {},
   "outputs": [],
   "source": [
    "x = data.drop(['id','yearly_availability','owner_id','latitude','longitude'],axis=1)\n",
    "y=data['yearly_availability']"
   ]
  },
  {
   "cell_type": "code",
   "execution_count": 39,
   "metadata": {},
   "outputs": [],
   "source": [
    "# Standard scaling the dataset\n",
    "scaler = StandardScaler()\n",
    "x_ss=scaler.fit_transform(x)\n",
    "x_ss=pd.DataFrame(x_ss, columns=x.columns)"
   ]
  },
  {
   "cell_type": "code",
   "execution_count": 45,
   "metadata": {},
   "outputs": [],
   "source": [
    "# Train test split in 90% train and 10% test to get more training data. We will also use cross validation for accuracy.\n",
    "\n",
    "x_train, x_test, y_train, y_test = train_test_split(x_ss,y, test_size=0.1, random_state=42)"
   ]
  },
  {
   "cell_type": "markdown",
   "metadata": {},
   "source": [
    "# \n",
    "### Part 4: Modelling"
   ]
  },
  {
   "cell_type": "markdown",
   "metadata": {},
   "source": [
    "- Creating a model pipeline to test all the major classification models."
   ]
  },
  {
   "cell_type": "code",
   "execution_count": 46,
   "metadata": {},
   "outputs": [],
   "source": [
    "from pandas import set_option\n",
    "from sklearn.preprocessing import StandardScaler, MinMaxScaler\n",
    "from sklearn.model_selection import train_test_split\n",
    "from sklearn.model_selection import KFold\n",
    "from sklearn.model_selection import StratifiedKFold\n",
    "from sklearn.model_selection import cross_val_score\n",
    "from sklearn.model_selection import GridSearchCV\n",
    "from sklearn.metrics import classification_report\n",
    "from sklearn.metrics import confusion_matrix\n",
    "from sklearn.metrics import accuracy_score\n",
    "from sklearn.linear_model import LogisticRegression\n",
    "from sklearn.tree import DecisionTreeClassifier\n",
    "from sklearn.neighbors import KNeighborsClassifier\n",
    "from sklearn.discriminant_analysis import LinearDiscriminantAnalysis\n",
    "from sklearn.naive_bayes import GaussianNB\n",
    "from sklearn.svm import SVC\n",
    "from sklearn.ensemble import AdaBoostClassifier\n",
    "from sklearn.ensemble import GradientBoostingClassifier\n",
    "from sklearn.ensemble import RandomForestClassifier\n",
    "from sklearn.model_selection import GridSearchCV\n",
    "from sklearn.metrics import mean_squared_error"
   ]
  },
  {
   "cell_type": "code",
   "execution_count": 47,
   "metadata": {},
   "outputs": [],
   "source": [
    "def GetSimpleModel():\n",
    "    simpleModels = []\n",
    "    simpleModels.append(('Logistic Regression'   , LogisticRegression(max_iter=5000)))\n",
    "    simpleModels.append(('KNeighbors'  , KNeighborsClassifier()))\n",
    "    simpleModels.append(('DecisionTree' , DecisionTreeClassifier()))\n",
    "    simpleModels.append(('Naive Bayes'   , GaussianNB()))\n",
    "    simpleModels.append(('Support Vector Machine'  , SVC(probability=True)))\n",
    "    simpleModels.append(('ADABoost'   , AdaBoostClassifier()))\n",
    "    simpleModels.append(('GradientBoosting'  , GradientBoostingClassifier()))\n",
    "    simpleModels.append(('RandomForest'   , RandomForestClassifier()))\n",
    "\n",
    "    \n",
    "    return simpleModels"
   ]
  },
  {
   "cell_type": "code",
   "execution_count": 48,
   "metadata": {},
   "outputs": [],
   "source": [
    "def BasedLine(x_train, y_train,models):\n",
    "    \n",
    "    num_folds = 5\n",
    "    scoring = 'accuracy'\n",
    "\n",
    "    results = []\n",
    "    names = []\n",
    "    for name, model in models:\n",
    "        kfold = StratifiedKFold(n_splits=num_folds)\n",
    "        res = cross_val_score(model, x_train, y_train, cv=kfold, scoring=scoring)\n",
    "        results.append(res)\n",
    "        names.append(name)\n",
    "    cv_scores = []\n",
    "    for cv in results:\n",
    "        cv_scores.append(\"{:.4f}\".format(cv.mean()))  \n",
    "\n",
    "    scoreDataFrame = pd.DataFrame({'Model':names, 'Score': cv_scores})\n",
    "    return scoreDataFrame"
   ]
  },
  {
   "cell_type": "code",
   "execution_count": 49,
   "metadata": {},
   "outputs": [
    {
     "name": "stderr",
     "output_type": "stream",
     "text": [
      "/opt/conda/lib/python3.7/site-packages/sklearn/linear_model/logistic.py:432: FutureWarning: Default solver will be changed to 'lbfgs' in 0.22. Specify a solver to silence this warning.\n",
      "  FutureWarning)\n",
      "/opt/conda/lib/python3.7/site-packages/sklearn/linear_model/logistic.py:432: FutureWarning: Default solver will be changed to 'lbfgs' in 0.22. Specify a solver to silence this warning.\n",
      "  FutureWarning)\n",
      "/opt/conda/lib/python3.7/site-packages/sklearn/linear_model/logistic.py:432: FutureWarning: Default solver will be changed to 'lbfgs' in 0.22. Specify a solver to silence this warning.\n",
      "  FutureWarning)\n",
      "/opt/conda/lib/python3.7/site-packages/sklearn/linear_model/logistic.py:432: FutureWarning: Default solver will be changed to 'lbfgs' in 0.22. Specify a solver to silence this warning.\n",
      "  FutureWarning)\n",
      "/opt/conda/lib/python3.7/site-packages/sklearn/linear_model/logistic.py:432: FutureWarning: Default solver will be changed to 'lbfgs' in 0.22. Specify a solver to silence this warning.\n",
      "  FutureWarning)\n",
      "/opt/conda/lib/python3.7/site-packages/sklearn/svm/base.py:193: FutureWarning: The default value of gamma will change from 'auto' to 'scale' in version 0.22 to account better for unscaled features. Set gamma explicitly to 'auto' or 'scale' to avoid this warning.\n",
      "  \"avoid this warning.\", FutureWarning)\n",
      "/opt/conda/lib/python3.7/site-packages/sklearn/svm/base.py:193: FutureWarning: The default value of gamma will change from 'auto' to 'scale' in version 0.22 to account better for unscaled features. Set gamma explicitly to 'auto' or 'scale' to avoid this warning.\n",
      "  \"avoid this warning.\", FutureWarning)\n",
      "/opt/conda/lib/python3.7/site-packages/sklearn/svm/base.py:193: FutureWarning: The default value of gamma will change from 'auto' to 'scale' in version 0.22 to account better for unscaled features. Set gamma explicitly to 'auto' or 'scale' to avoid this warning.\n",
      "  \"avoid this warning.\", FutureWarning)\n",
      "/opt/conda/lib/python3.7/site-packages/sklearn/svm/base.py:193: FutureWarning: The default value of gamma will change from 'auto' to 'scale' in version 0.22 to account better for unscaled features. Set gamma explicitly to 'auto' or 'scale' to avoid this warning.\n",
      "  \"avoid this warning.\", FutureWarning)\n",
      "/opt/conda/lib/python3.7/site-packages/sklearn/svm/base.py:193: FutureWarning: The default value of gamma will change from 'auto' to 'scale' in version 0.22 to account better for unscaled features. Set gamma explicitly to 'auto' or 'scale' to avoid this warning.\n",
      "  \"avoid this warning.\", FutureWarning)\n",
      "/opt/conda/lib/python3.7/site-packages/sklearn/ensemble/forest.py:245: FutureWarning: The default value of n_estimators will change from 10 in version 0.20 to 100 in 0.22.\n",
      "  \"10 in version 0.20 to 100 in 0.22.\", FutureWarning)\n",
      "/opt/conda/lib/python3.7/site-packages/sklearn/ensemble/forest.py:245: FutureWarning: The default value of n_estimators will change from 10 in version 0.20 to 100 in 0.22.\n",
      "  \"10 in version 0.20 to 100 in 0.22.\", FutureWarning)\n",
      "/opt/conda/lib/python3.7/site-packages/sklearn/ensemble/forest.py:245: FutureWarning: The default value of n_estimators will change from 10 in version 0.20 to 100 in 0.22.\n",
      "  \"10 in version 0.20 to 100 in 0.22.\", FutureWarning)\n",
      "/opt/conda/lib/python3.7/site-packages/sklearn/ensemble/forest.py:245: FutureWarning: The default value of n_estimators will change from 10 in version 0.20 to 100 in 0.22.\n",
      "  \"10 in version 0.20 to 100 in 0.22.\", FutureWarning)\n",
      "/opt/conda/lib/python3.7/site-packages/sklearn/ensemble/forest.py:245: FutureWarning: The default value of n_estimators will change from 10 in version 0.20 to 100 in 0.22.\n",
      "  \"10 in version 0.20 to 100 in 0.22.\", FutureWarning)\n"
     ]
    },
    {
     "data": {
      "text/html": [
       "<div>\n",
       "<style scoped>\n",
       "    .dataframe tbody tr th:only-of-type {\n",
       "        vertical-align: middle;\n",
       "    }\n",
       "\n",
       "    .dataframe tbody tr th {\n",
       "        vertical-align: top;\n",
       "    }\n",
       "\n",
       "    .dataframe thead th {\n",
       "        text-align: right;\n",
       "    }\n",
       "</style>\n",
       "<table border=\"1\" class=\"dataframe\">\n",
       "  <thead>\n",
       "    <tr style=\"text-align: right;\">\n",
       "      <th></th>\n",
       "      <th>Model</th>\n",
       "      <th>Score</th>\n",
       "    </tr>\n",
       "  </thead>\n",
       "  <tbody>\n",
       "    <tr>\n",
       "      <th>0</th>\n",
       "      <td>Logistic Regression</td>\n",
       "      <td>0.7360</td>\n",
       "    </tr>\n",
       "    <tr>\n",
       "      <th>1</th>\n",
       "      <td>KNeighbors</td>\n",
       "      <td>0.8804</td>\n",
       "    </tr>\n",
       "    <tr>\n",
       "      <th>2</th>\n",
       "      <td>DecisionTree</td>\n",
       "      <td>0.8846</td>\n",
       "    </tr>\n",
       "    <tr>\n",
       "      <th>3</th>\n",
       "      <td>Naive Bayes</td>\n",
       "      <td>0.6907</td>\n",
       "    </tr>\n",
       "    <tr>\n",
       "      <th>4</th>\n",
       "      <td>Support Vector Machine</td>\n",
       "      <td>0.8990</td>\n",
       "    </tr>\n",
       "    <tr>\n",
       "      <th>5</th>\n",
       "      <td>ADABoost</td>\n",
       "      <td>0.9121</td>\n",
       "    </tr>\n",
       "    <tr>\n",
       "      <th>6</th>\n",
       "      <td>GradientBoosting</td>\n",
       "      <td>0.9280</td>\n",
       "    </tr>\n",
       "    <tr>\n",
       "      <th>7</th>\n",
       "      <td>RandomForest</td>\n",
       "      <td>0.9206</td>\n",
       "    </tr>\n",
       "  </tbody>\n",
       "</table>\n",
       "</div>"
      ],
      "text/plain": [
       "                    Model   Score\n",
       "0     Logistic Regression  0.7360\n",
       "1              KNeighbors  0.8804\n",
       "2            DecisionTree  0.8846\n",
       "3             Naive Bayes  0.6907\n",
       "4  Support Vector Machine  0.8990\n",
       "5                ADABoost  0.9121\n",
       "6        GradientBoosting  0.9280\n",
       "7            RandomForest  0.9206"
      ]
     },
     "execution_count": 49,
     "metadata": {},
     "output_type": "execute_result"
    }
   ],
   "source": [
    "models = GetSimpleModel()\n",
    "cv_Score=BasedLine(x_train, y_train,models)\n",
    "cv_Score"
   ]
  },
  {
   "cell_type": "markdown",
   "metadata": {},
   "source": [
    "# \n",
    "- Trying grid search cv for the random forest model since it has good performance"
   ]
  },
  {
   "cell_type": "code",
   "execution_count": 56,
   "metadata": {},
   "outputs": [],
   "source": [
    "forest=RandomForestClassifier()\n",
    "param_grid_rf = [{'n_estimators': [70,100,150], 'max_features': [5,7,9], \n",
    " 'max_depth': [3,10,12,15], 'bootstrap': [True, False]}]"
   ]
  },
  {
   "cell_type": "code",
   "execution_count": 57,
   "metadata": {},
   "outputs": [
    {
     "name": "stdout",
     "output_type": "stream",
     "text": [
      "Best Score: 0.934843, Best Params {'bootstrap': True, 'max_depth': 12, 'max_features': 7, 'n_estimators': 70}\n"
     ]
    }
   ],
   "source": [
    "clf_rf = GridSearchCV(forest, param_grid_rf,cv=5,verbose=0,n_jobs=-1)\n",
    "best_model_rf = clf_rf.fit(x_ss,y)\n",
    "msg = (best_model_rf.best_score_, best_model_rf.best_params_)\n",
    "print(\"Best Score: %f, Best Params %s\" % (msg))"
   ]
  },
  {
   "cell_type": "markdown",
   "metadata": {},
   "source": [
    "# \n",
    "- Trying XGBoost Classifier model"
   ]
  },
  {
   "cell_type": "code",
   "execution_count": 53,
   "metadata": {},
   "outputs": [
    {
     "name": "stderr",
     "output_type": "stream",
     "text": [
      "/opt/conda/lib/python3.7/site-packages/xgboost/sklearn.py:1224: UserWarning: The use of label encoder in XGBClassifier is deprecated and will be removed in a future release. To remove this warning, do the following: 1) Pass option use_label_encoder=False when constructing XGBClassifier object; and 2) Encode your labels (y) as integers starting with 0, i.e. 0, 1, 2, ..., [num_class - 1].\n",
      "  warnings.warn(label_encoder_deprecation_msg, UserWarning)\n"
     ]
    },
    {
     "name": "stdout",
     "output_type": "stream",
     "text": [
      "[19:37:56] WARNING: ../src/learner.cc:1115: Starting in XGBoost 1.3.0, the default evaluation metric used with the objective 'binary:logistic' was changed from 'error' to 'logloss'. Explicitly set eval_metric if you'd like to restore the old behavior.\n",
      "Accuracy Score of Ada Boost Classifier is : 0.9303135888501742\n",
      "Confusion Matrix : \n",
      "[[123  11]\n",
      " [  9 144]]\n",
      "Classification Report : \n",
      "              precision    recall  f1-score   support\n",
      "\n",
      "           0       0.93      0.92      0.92       134\n",
      "           1       0.93      0.94      0.94       153\n",
      "\n",
      "    accuracy                           0.93       287\n",
      "   macro avg       0.93      0.93      0.93       287\n",
      "weighted avg       0.93      0.93      0.93       287\n",
      "\n"
     ]
    }
   ],
   "source": [
    "from xgboost import XGBClassifier\n",
    "\n",
    "xgb = XGBClassifier(booster = 'gbtree', learning_rate = 0.1, max_depth = 5, n_estimators = 180)\n",
    "xgb.fit(x_train, y_train)\n",
    "\n",
    "y_pred_xgb = xgb.predict(x_test)\n",
    "\n",
    "acc_xgb = accuracy_score(y_test, y_pred_xgb)\n",
    "conf = confusion_matrix(y_test, y_pred_xgb)\n",
    "clf_report = classification_report(y_test, y_pred_xgb)\n",
    "\n",
    "print(f\"Accuracy Score of Ada Boost Classifier is : {acc_xgb}\")\n",
    "print(f\"Confusion Matrix : \\n{conf}\")\n",
    "print(f\"Classification Report : \\n{clf_report}\")"
   ]
  },
  {
   "cell_type": "markdown",
   "metadata": {},
   "source": [
    "# \n",
    "- Trying CatBoostClassifier below and checking the test accuracy"
   ]
  },
  {
   "cell_type": "code",
   "execution_count": 54,
   "metadata": {},
   "outputs": [
    {
     "name": "stdout",
     "output_type": "stream",
     "text": [
      "Learning rate set to 0.127618\n",
      "0:\tlearn: 0.6118188\ttotal: 49.1ms\tremaining: 4.86s\n",
      "1:\tlearn: 0.5504536\ttotal: 51.1ms\tremaining: 2.51s\n",
      "2:\tlearn: 0.4977035\ttotal: 52.9ms\tremaining: 1.71s\n",
      "3:\tlearn: 0.4568064\ttotal: 54.6ms\tremaining: 1.31s\n",
      "4:\tlearn: 0.4200945\ttotal: 56.7ms\tremaining: 1.08s\n",
      "5:\tlearn: 0.3894858\ttotal: 59.4ms\tremaining: 930ms\n",
      "6:\tlearn: 0.3632787\ttotal: 61.2ms\tremaining: 813ms\n",
      "7:\tlearn: 0.3420459\ttotal: 63.1ms\tremaining: 726ms\n",
      "8:\tlearn: 0.3232073\ttotal: 65.2ms\tremaining: 659ms\n",
      "9:\tlearn: 0.3082384\ttotal: 67.4ms\tremaining: 607ms\n",
      "10:\tlearn: 0.2944011\ttotal: 69.2ms\tremaining: 560ms\n",
      "11:\tlearn: 0.2832073\ttotal: 71.2ms\tremaining: 522ms\n",
      "12:\tlearn: 0.2726689\ttotal: 73.2ms\tremaining: 490ms\n",
      "13:\tlearn: 0.2642662\ttotal: 75.2ms\tremaining: 462ms\n",
      "14:\tlearn: 0.2575567\ttotal: 77.1ms\tremaining: 437ms\n",
      "15:\tlearn: 0.2506694\ttotal: 79.1ms\tremaining: 415ms\n",
      "16:\tlearn: 0.2436587\ttotal: 81.1ms\tremaining: 396ms\n",
      "17:\tlearn: 0.2386354\ttotal: 83.7ms\tremaining: 381ms\n",
      "18:\tlearn: 0.2340219\ttotal: 86.1ms\tremaining: 367ms\n",
      "19:\tlearn: 0.2294839\ttotal: 88.2ms\tremaining: 353ms\n",
      "20:\tlearn: 0.2265726\ttotal: 90ms\tremaining: 339ms\n",
      "21:\tlearn: 0.2226927\ttotal: 91.8ms\tremaining: 325ms\n",
      "22:\tlearn: 0.2193722\ttotal: 93.5ms\tremaining: 313ms\n",
      "23:\tlearn: 0.2153978\ttotal: 95.3ms\tremaining: 302ms\n",
      "24:\tlearn: 0.2124841\ttotal: 97ms\tremaining: 291ms\n",
      "25:\tlearn: 0.2101765\ttotal: 98.8ms\tremaining: 281ms\n",
      "26:\tlearn: 0.2075257\ttotal: 101ms\tremaining: 272ms\n",
      "27:\tlearn: 0.2058544\ttotal: 102ms\tremaining: 263ms\n",
      "28:\tlearn: 0.2041870\ttotal: 104ms\tremaining: 254ms\n",
      "29:\tlearn: 0.2026630\ttotal: 106ms\tremaining: 246ms\n",
      "30:\tlearn: 0.2007153\ttotal: 107ms\tremaining: 239ms\n",
      "31:\tlearn: 0.1982462\ttotal: 109ms\tremaining: 232ms\n",
      "32:\tlearn: 0.1972321\ttotal: 111ms\tremaining: 225ms\n",
      "33:\tlearn: 0.1954116\ttotal: 112ms\tremaining: 218ms\n",
      "34:\tlearn: 0.1941035\ttotal: 114ms\tremaining: 212ms\n",
      "35:\tlearn: 0.1921167\ttotal: 116ms\tremaining: 206ms\n",
      "36:\tlearn: 0.1896828\ttotal: 117ms\tremaining: 200ms\n",
      "37:\tlearn: 0.1883939\ttotal: 119ms\tremaining: 194ms\n",
      "38:\tlearn: 0.1870228\ttotal: 121ms\tremaining: 189ms\n",
      "39:\tlearn: 0.1857058\ttotal: 123ms\tremaining: 184ms\n",
      "40:\tlearn: 0.1844740\ttotal: 124ms\tremaining: 179ms\n",
      "41:\tlearn: 0.1829722\ttotal: 126ms\tremaining: 174ms\n",
      "42:\tlearn: 0.1816807\ttotal: 128ms\tremaining: 169ms\n",
      "43:\tlearn: 0.1803962\ttotal: 129ms\tremaining: 165ms\n",
      "44:\tlearn: 0.1792188\ttotal: 131ms\tremaining: 160ms\n",
      "45:\tlearn: 0.1782495\ttotal: 133ms\tremaining: 156ms\n",
      "46:\tlearn: 0.1773821\ttotal: 134ms\tremaining: 151ms\n",
      "47:\tlearn: 0.1763617\ttotal: 136ms\tremaining: 147ms\n",
      "48:\tlearn: 0.1753827\ttotal: 138ms\tremaining: 143ms\n",
      "49:\tlearn: 0.1742733\ttotal: 139ms\tremaining: 139ms\n",
      "50:\tlearn: 0.1736451\ttotal: 141ms\tremaining: 136ms\n",
      "51:\tlearn: 0.1730869\ttotal: 143ms\tremaining: 132ms\n",
      "52:\tlearn: 0.1719727\ttotal: 145ms\tremaining: 128ms\n",
      "53:\tlearn: 0.1715254\ttotal: 146ms\tremaining: 124ms\n",
      "54:\tlearn: 0.1709913\ttotal: 147ms\tremaining: 121ms\n",
      "55:\tlearn: 0.1703839\ttotal: 150ms\tremaining: 118ms\n",
      "56:\tlearn: 0.1696791\ttotal: 152ms\tremaining: 114ms\n",
      "57:\tlearn: 0.1684442\ttotal: 153ms\tremaining: 111ms\n",
      "58:\tlearn: 0.1678198\ttotal: 155ms\tremaining: 108ms\n",
      "59:\tlearn: 0.1669549\ttotal: 157ms\tremaining: 105ms\n",
      "60:\tlearn: 0.1662475\ttotal: 159ms\tremaining: 101ms\n",
      "61:\tlearn: 0.1654523\ttotal: 160ms\tremaining: 98.2ms\n",
      "62:\tlearn: 0.1649695\ttotal: 162ms\tremaining: 95.1ms\n",
      "63:\tlearn: 0.1643825\ttotal: 164ms\tremaining: 92ms\n",
      "64:\tlearn: 0.1633796\ttotal: 165ms\tremaining: 89.1ms\n",
      "65:\tlearn: 0.1625869\ttotal: 167ms\tremaining: 86.1ms\n",
      "66:\tlearn: 0.1621770\ttotal: 169ms\tremaining: 83.2ms\n",
      "67:\tlearn: 0.1616117\ttotal: 171ms\tremaining: 80.3ms\n",
      "68:\tlearn: 0.1602512\ttotal: 173ms\tremaining: 77.5ms\n",
      "69:\tlearn: 0.1599472\ttotal: 174ms\tremaining: 74.7ms\n",
      "70:\tlearn: 0.1591032\ttotal: 176ms\tremaining: 71.8ms\n",
      "71:\tlearn: 0.1588954\ttotal: 178ms\tremaining: 69.1ms\n",
      "72:\tlearn: 0.1582289\ttotal: 179ms\tremaining: 66.3ms\n",
      "73:\tlearn: 0.1578358\ttotal: 181ms\tremaining: 63.6ms\n",
      "74:\tlearn: 0.1564618\ttotal: 183ms\tremaining: 60.9ms\n",
      "75:\tlearn: 0.1561953\ttotal: 184ms\tremaining: 58.2ms\n",
      "76:\tlearn: 0.1555983\ttotal: 186ms\tremaining: 55.6ms\n",
      "77:\tlearn: 0.1549644\ttotal: 188ms\tremaining: 53ms\n",
      "78:\tlearn: 0.1546766\ttotal: 189ms\tremaining: 50.4ms\n",
      "79:\tlearn: 0.1539191\ttotal: 192ms\tremaining: 47.9ms\n",
      "80:\tlearn: 0.1532707\ttotal: 194ms\tremaining: 45.5ms\n",
      "81:\tlearn: 0.1523973\ttotal: 196ms\tremaining: 43.1ms\n",
      "82:\tlearn: 0.1521879\ttotal: 198ms\tremaining: 40.6ms\n",
      "83:\tlearn: 0.1518471\ttotal: 200ms\tremaining: 38.1ms\n",
      "84:\tlearn: 0.1517128\ttotal: 202ms\tremaining: 35.6ms\n",
      "85:\tlearn: 0.1511616\ttotal: 204ms\tremaining: 33.2ms\n",
      "86:\tlearn: 0.1506242\ttotal: 205ms\tremaining: 30.7ms\n",
      "87:\tlearn: 0.1501535\ttotal: 207ms\tremaining: 28.2ms\n",
      "88:\tlearn: 0.1498144\ttotal: 209ms\tremaining: 25.8ms\n",
      "89:\tlearn: 0.1495743\ttotal: 211ms\tremaining: 23.4ms\n",
      "90:\tlearn: 0.1493130\ttotal: 212ms\tremaining: 21ms\n",
      "91:\tlearn: 0.1484458\ttotal: 214ms\tremaining: 18.6ms\n",
      "92:\tlearn: 0.1478056\ttotal: 216ms\tremaining: 16.2ms\n",
      "93:\tlearn: 0.1472343\ttotal: 217ms\tremaining: 13.9ms\n",
      "94:\tlearn: 0.1468383\ttotal: 219ms\tremaining: 11.5ms\n",
      "95:\tlearn: 0.1464559\ttotal: 221ms\tremaining: 9.2ms\n",
      "96:\tlearn: 0.1460698\ttotal: 222ms\tremaining: 6.88ms\n",
      "97:\tlearn: 0.1450656\ttotal: 224ms\tremaining: 4.57ms\n",
      "98:\tlearn: 0.1446138\ttotal: 226ms\tremaining: 2.28ms\n",
      "99:\tlearn: 0.1441208\ttotal: 228ms\tremaining: 0us\n"
     ]
    }
   ],
   "source": [
    "cat = CatBoostClassifier(iterations=100)\n",
    "cat.fit(x_train, y_train)\n",
    "\n",
    "y_pred_cat = cat.predict(x_test)\n",
    "\n",
    "acc_cat = accuracy_score(y_test, y_pred_cat)\n",
    "conf = confusion_matrix(y_test, y_pred_cat)\n",
    "clf_report = classification_report(y_test, y_pred_cat)"
   ]
  },
  {
   "cell_type": "code",
   "execution_count": 55,
   "metadata": {},
   "outputs": [
    {
     "name": "stdout",
     "output_type": "stream",
     "text": [
      "Accuracy Score of Cat Boost Classifier is : 0.926829268292683\n",
      "Confusion Matrix : \n",
      "[[122  12]\n",
      " [  9 144]]\n",
      "Classification Report : \n",
      "              precision    recall  f1-score   support\n",
      "\n",
      "           0       0.93      0.91      0.92       134\n",
      "           1       0.92      0.94      0.93       153\n",
      "\n",
      "    accuracy                           0.93       287\n",
      "   macro avg       0.93      0.93      0.93       287\n",
      "weighted avg       0.93      0.93      0.93       287\n",
      "\n"
     ]
    }
   ],
   "source": [
    "print(f\"Accuracy Score of Cat Boost Classifier is : {acc_cat}\")\n",
    "print(f\"Confusion Matrix : \\n{conf}\")\n",
    "print(f\"Classification Report : \\n{clf_report}\")"
   ]
  },
  {
   "cell_type": "markdown",
   "metadata": {},
   "source": [
    "- The best performing performing model out of Random Forest Classifier, XGBoost and CatBoost. After trial and error, I felt Random forest performed the best and therefore I will use that model for final predictions "
   ]
  },
  {
   "cell_type": "markdown",
   "metadata": {},
   "source": [
    "# \n",
    "### Part 5: Prediction and Inference"
   ]
  },
  {
   "cell_type": "markdown",
   "metadata": {},
   "source": [
    "- Importing and preprocessing the test data"
   ]
  },
  {
   "cell_type": "code",
   "execution_count": 60,
   "metadata": {
    "colab": {},
    "colab_type": "code",
    "id": "Hsxh3SMgIKSY",
    "outputId": "d98d0f00-f33f-407b-df59-a9915bb03fa1"
   },
   "outputs": [
    {
     "data": {
      "text/html": [
       "<div>\n",
       "<style scoped>\n",
       "    .dataframe tbody tr th:only-of-type {\n",
       "        vertical-align: middle;\n",
       "    }\n",
       "\n",
       "    .dataframe tbody tr th {\n",
       "        vertical-align: top;\n",
       "    }\n",
       "\n",
       "    .dataframe thead th {\n",
       "        text-align: right;\n",
       "    }\n",
       "</style>\n",
       "<table border=\"1\" class=\"dataframe\">\n",
       "  <thead>\n",
       "    <tr style=\"text-align: right;\">\n",
       "      <th></th>\n",
       "      <th>id</th>\n",
       "      <th>region</th>\n",
       "      <th>latitude</th>\n",
       "      <th>longitude</th>\n",
       "      <th>accommodation_type</th>\n",
       "      <th>cost</th>\n",
       "      <th>minimum_nights</th>\n",
       "      <th>number_of_reviews</th>\n",
       "      <th>reviews_per_month</th>\n",
       "      <th>owner_id</th>\n",
       "      <th>owned_hotels</th>\n",
       "    </tr>\n",
       "  </thead>\n",
       "  <tbody>\n",
       "    <tr>\n",
       "      <th>0</th>\n",
       "      <td>19215</td>\n",
       "      <td>Brooklyn</td>\n",
       "      <td>40.70912</td>\n",
       "      <td>-73.94513</td>\n",
       "      <td>Shared room</td>\n",
       "      <td>135</td>\n",
       "      <td>2</td>\n",
       "      <td>22</td>\n",
       "      <td>0.66</td>\n",
       "      <td>4360212</td>\n",
       "      <td>1</td>\n",
       "    </tr>\n",
       "    <tr>\n",
       "      <th>1</th>\n",
       "      <td>36301</td>\n",
       "      <td>Brooklyn</td>\n",
       "      <td>40.57646</td>\n",
       "      <td>-73.96641</td>\n",
       "      <td>Entire home/apt</td>\n",
       "      <td>69</td>\n",
       "      <td>2</td>\n",
       "      <td>8</td>\n",
       "      <td>0.90</td>\n",
       "      <td>181356989</td>\n",
       "      <td>2</td>\n",
       "    </tr>\n",
       "    <tr>\n",
       "      <th>2</th>\n",
       "      <td>40566</td>\n",
       "      <td>Manhattan</td>\n",
       "      <td>40.76616</td>\n",
       "      <td>-73.98228</td>\n",
       "      <td>Private room</td>\n",
       "      <td>225</td>\n",
       "      <td>30</td>\n",
       "      <td>0</td>\n",
       "      <td>NaN</td>\n",
       "      <td>13773574</td>\n",
       "      <td>12</td>\n",
       "    </tr>\n",
       "    <tr>\n",
       "      <th>3</th>\n",
       "      <td>33694</td>\n",
       "      <td>Manhattan</td>\n",
       "      <td>40.77668</td>\n",
       "      <td>-73.94587</td>\n",
       "      <td>Shared room</td>\n",
       "      <td>125</td>\n",
       "      <td>30</td>\n",
       "      <td>9</td>\n",
       "      <td>0.82</td>\n",
       "      <td>6788748</td>\n",
       "      <td>1</td>\n",
       "    </tr>\n",
       "    <tr>\n",
       "      <th>4</th>\n",
       "      <td>28873</td>\n",
       "      <td>Manhattan</td>\n",
       "      <td>40.80279</td>\n",
       "      <td>-73.94450</td>\n",
       "      <td>Entire home/apt</td>\n",
       "      <td>43</td>\n",
       "      <td>1</td>\n",
       "      <td>13</td>\n",
       "      <td>0.72</td>\n",
       "      <td>105061915</td>\n",
       "      <td>2</td>\n",
       "    </tr>\n",
       "  </tbody>\n",
       "</table>\n",
       "</div>"
      ],
      "text/plain": [
       "      id     region  latitude  longitude accommodation_type  cost  \\\n",
       "0  19215   Brooklyn  40.70912  -73.94513        Shared room   135   \n",
       "1  36301   Brooklyn  40.57646  -73.96641    Entire home/apt    69   \n",
       "2  40566  Manhattan  40.76616  -73.98228       Private room   225   \n",
       "3  33694  Manhattan  40.77668  -73.94587        Shared room   125   \n",
       "4  28873  Manhattan  40.80279  -73.94450    Entire home/apt    43   \n",
       "\n",
       "   minimum_nights  number_of_reviews  reviews_per_month   owner_id  \\\n",
       "0               2                 22               0.66    4360212   \n",
       "1               2                  8               0.90  181356989   \n",
       "2              30                  0                NaN   13773574   \n",
       "3              30                  9               0.82    6788748   \n",
       "4               1                 13               0.72  105061915   \n",
       "\n",
       "   owned_hotels  \n",
       "0             1  \n",
       "1             2  \n",
       "2            12  \n",
       "3             1  \n",
       "4             2  "
      ]
     },
     "execution_count": 60,
     "metadata": {},
     "output_type": "execute_result"
    }
   ],
   "source": [
    "#Loading Test data\n",
    "test_data=pd.read_csv('test.csv')\n",
    "test_data.head()"
   ]
  },
  {
   "cell_type": "code",
   "execution_count": 61,
   "metadata": {
    "colab": {},
    "colab_type": "code",
    "id": "1XiIoLYLIKSj"
   },
   "outputs": [],
   "source": [
    "def pre_process(df):\n",
    "    df['reviews_per_month']=df['reviews_per_month'].fillna(0)\n",
    "    \n",
    "    col_names=['number_of_reviews','minimum_nights','cost','owned_hotels','reviews_per_month']\n",
    "    for i in col_names:\n",
    "        upper_limit = df[i].mean() + 3*df[i].std()\n",
    "        lower_limit = df[i].mean() - 3*df[i].std()\n",
    "\n",
    "        df[i] = np.where(\n",
    "            df[i]>upper_limit,\n",
    "            upper_limit,\n",
    "            np.where(\n",
    "                df[i]<lower_limit,\n",
    "                lower_limit,\n",
    "                df[i]\n",
    "            )\n",
    "        )\n",
    "    \n",
    "    le = LabelEncoder()\n",
    "    df.region=le.fit_transform(df.region)\n",
    "    df.accommodation_type=le.fit_transform(df.accommodation_type)\n",
    "    \n",
    "    df['x']= np.cos(df['latitude'])*np.cos(df['longitude'])\n",
    "    df['y']= np.cos(df['latitude'])*np.sin(df['longitude'])\n",
    "    df['z']= np.sin(df['latitude'])\n",
    "    \n",
    "    df['months_of_reviews']=df['reviews_per_month']/df['number_of_reviews']\n",
    "    df['min_cost_of_stay']=df['minimum_nights']*df['cost']\n",
    "    df['months_of_reviews']=df['months_of_reviews'].fillna(0)\n",
    "    \n",
    "    x = df.drop(columns=['id','owner_id','latitude','longitude'])\n",
    "    \n",
    "    #Scaling\n",
    "    scaler = StandardScaler()\n",
    "    df_ss=scaler.fit_transform(x)\n",
    "    df_ss=pd.DataFrame(df_ss, columns=x.columns)\n",
    "    \n",
    "    return df_ss  "
   ]
  },
  {
   "cell_type": "code",
   "execution_count": 62,
   "metadata": {},
   "outputs": [],
   "source": [
    "x_test1=pre_process(test_data)"
   ]
  },
  {
   "cell_type": "code",
   "execution_count": 63,
   "metadata": {
    "colab": {},
    "colab_type": "code",
    "id": "7tBCHjd3IKSp"
   },
   "outputs": [
    {
     "data": {
      "text/plain": [
       "(718, 12)"
      ]
     },
     "execution_count": 63,
     "metadata": {},
     "output_type": "execute_result"
    }
   ],
   "source": [
    "x_test1.shape"
   ]
  },
  {
   "cell_type": "code",
   "execution_count": 64,
   "metadata": {
    "colab": {},
    "colab_type": "code",
    "id": "1Vk1EEy9IKSv"
   },
   "outputs": [
    {
     "data": {
      "text/html": [
       "<div>\n",
       "<style scoped>\n",
       "    .dataframe tbody tr th:only-of-type {\n",
       "        vertical-align: middle;\n",
       "    }\n",
       "\n",
       "    .dataframe tbody tr th {\n",
       "        vertical-align: top;\n",
       "    }\n",
       "\n",
       "    .dataframe thead th {\n",
       "        text-align: right;\n",
       "    }\n",
       "</style>\n",
       "<table border=\"1\" class=\"dataframe\">\n",
       "  <thead>\n",
       "    <tr style=\"text-align: right;\">\n",
       "      <th></th>\n",
       "      <th>region</th>\n",
       "      <th>accommodation_type</th>\n",
       "      <th>cost</th>\n",
       "      <th>minimum_nights</th>\n",
       "      <th>number_of_reviews</th>\n",
       "      <th>reviews_per_month</th>\n",
       "      <th>owned_hotels</th>\n",
       "      <th>x</th>\n",
       "      <th>y</th>\n",
       "      <th>z</th>\n",
       "      <th>months_of_reviews</th>\n",
       "      <th>min_cost_of_stay</th>\n",
       "    </tr>\n",
       "  </thead>\n",
       "  <tbody>\n",
       "    <tr>\n",
       "      <th>0</th>\n",
       "      <td>-0.892332</td>\n",
       "      <td>1.413036</td>\n",
       "      <td>-0.158801</td>\n",
       "      <td>-0.354584</td>\n",
       "      <td>0.388042</td>\n",
       "      <td>-0.180147</td>\n",
       "      <td>-0.355571</td>\n",
       "      <td>0.165959</td>\n",
       "      <td>-0.126067</td>\n",
       "      <td>0.362864</td>\n",
       "      <td>-0.416729</td>\n",
       "      <td>-0.227051</td>\n",
       "    </tr>\n",
       "    <tr>\n",
       "      <th>1</th>\n",
       "      <td>-0.892332</td>\n",
       "      <td>-1.185069</td>\n",
       "      <td>-0.516755</td>\n",
       "      <td>-0.354584</td>\n",
       "      <td>-0.262875</td>\n",
       "      <td>0.018425</td>\n",
       "      <td>-0.299282</td>\n",
       "      <td>-0.207155</td>\n",
       "      <td>2.969473</td>\n",
       "      <td>2.712596</td>\n",
       "      <td>-0.044128</td>\n",
       "      <td>-0.245172</td>\n",
       "    </tr>\n",
       "    <tr>\n",
       "      <th>2</th>\n",
       "      <td>0.467953</td>\n",
       "      <td>0.113984</td>\n",
       "      <td>0.329318</td>\n",
       "      <td>0.992836</td>\n",
       "      <td>-0.634827</td>\n",
       "      <td>-0.726220</td>\n",
       "      <td>0.263607</td>\n",
       "      <td>-0.639928</td>\n",
       "      <td>-0.212293</td>\n",
       "      <td>-0.662714</td>\n",
       "      <td>-0.552221</td>\n",
       "      <td>0.662557</td>\n",
       "    </tr>\n",
       "    <tr>\n",
       "      <th>3</th>\n",
       "      <td>0.467953</td>\n",
       "      <td>1.413036</td>\n",
       "      <td>-0.213037</td>\n",
       "      <td>0.992836</td>\n",
       "      <td>-0.216381</td>\n",
       "      <td>-0.047765</td>\n",
       "      <td>-0.355571</td>\n",
       "      <td>0.133459</td>\n",
       "      <td>-0.827736</td>\n",
       "      <td>-0.852441</td>\n",
       "      <td>-0.140728</td>\n",
       "      <td>0.250702</td>\n",
       "    </tr>\n",
       "    <tr>\n",
       "      <th>4</th>\n",
       "      <td>0.467953</td>\n",
       "      <td>-1.185069</td>\n",
       "      <td>-0.657768</td>\n",
       "      <td>-0.402706</td>\n",
       "      <td>-0.030404</td>\n",
       "      <td>-0.130504</td>\n",
       "      <td>-0.299282</td>\n",
       "      <td>0.159373</td>\n",
       "      <td>-0.988596</td>\n",
       "      <td>-1.323841</td>\n",
       "      <td>-0.302083</td>\n",
       "      <td>-0.258214</td>\n",
       "    </tr>\n",
       "    <tr>\n",
       "      <th>...</th>\n",
       "      <td>...</td>\n",
       "      <td>...</td>\n",
       "      <td>...</td>\n",
       "      <td>...</td>\n",
       "      <td>...</td>\n",
       "      <td>...</td>\n",
       "      <td>...</td>\n",
       "      <td>...</td>\n",
       "      <td>...</td>\n",
       "      <td>...</td>\n",
       "      <td>...</td>\n",
       "      <td>...</td>\n",
       "    </tr>\n",
       "    <tr>\n",
       "      <th>713</th>\n",
       "      <td>-2.252617</td>\n",
       "      <td>-1.185069</td>\n",
       "      <td>-0.473367</td>\n",
       "      <td>-0.354584</td>\n",
       "      <td>1.038958</td>\n",
       "      <td>0.771344</td>\n",
       "      <td>-0.355571</td>\n",
       "      <td>0.777613</td>\n",
       "      <td>-1.386212</td>\n",
       "      <td>-2.103033</td>\n",
       "      <td>-0.325147</td>\n",
       "      <td>-0.242976</td>\n",
       "    </tr>\n",
       "    <tr>\n",
       "      <th>714</th>\n",
       "      <td>-0.892332</td>\n",
       "      <td>-1.185069</td>\n",
       "      <td>-0.104566</td>\n",
       "      <td>-0.306462</td>\n",
       "      <td>1.364417</td>\n",
       "      <td>0.399022</td>\n",
       "      <td>-0.355571</td>\n",
       "      <td>0.116565</td>\n",
       "      <td>-0.112639</td>\n",
       "      <td>0.342431</td>\n",
       "      <td>-0.409377</td>\n",
       "      <td>-0.204399</td>\n",
       "    </tr>\n",
       "    <tr>\n",
       "      <th>715</th>\n",
       "      <td>0.467953</td>\n",
       "      <td>-1.185069</td>\n",
       "      <td>-0.402861</td>\n",
       "      <td>-0.354584</td>\n",
       "      <td>2.154815</td>\n",
       "      <td>2.872899</td>\n",
       "      <td>-0.355571</td>\n",
       "      <td>-0.810766</td>\n",
       "      <td>0.503420</td>\n",
       "      <td>0.277169</td>\n",
       "      <td>-0.224783</td>\n",
       "      <td>-0.239406</td>\n",
       "    </tr>\n",
       "    <tr>\n",
       "      <th>716</th>\n",
       "      <td>0.467953</td>\n",
       "      <td>0.113984</td>\n",
       "      <td>0.193730</td>\n",
       "      <td>0.992836</td>\n",
       "      <td>-0.634827</td>\n",
       "      <td>-0.726220</td>\n",
       "      <td>0.882785</td>\n",
       "      <td>-0.416408</td>\n",
       "      <td>-0.173975</td>\n",
       "      <td>-0.263394</td>\n",
       "      <td>-0.552221</td>\n",
       "      <td>0.559593</td>\n",
       "    </tr>\n",
       "    <tr>\n",
       "      <th>717</th>\n",
       "      <td>0.467953</td>\n",
       "      <td>0.113984</td>\n",
       "      <td>0.025600</td>\n",
       "      <td>0.992836</td>\n",
       "      <td>-0.541839</td>\n",
       "      <td>-0.676577</td>\n",
       "      <td>4.764825</td>\n",
       "      <td>-1.290173</td>\n",
       "      <td>1.022572</td>\n",
       "      <td>0.392073</td>\n",
       "      <td>-0.416729</td>\n",
       "      <td>0.431918</td>\n",
       "    </tr>\n",
       "  </tbody>\n",
       "</table>\n",
       "<p>718 rows × 12 columns</p>\n",
       "</div>"
      ],
      "text/plain": [
       "       region  accommodation_type      cost  minimum_nights  \\\n",
       "0   -0.892332            1.413036 -0.158801       -0.354584   \n",
       "1   -0.892332           -1.185069 -0.516755       -0.354584   \n",
       "2    0.467953            0.113984  0.329318        0.992836   \n",
       "3    0.467953            1.413036 -0.213037        0.992836   \n",
       "4    0.467953           -1.185069 -0.657768       -0.402706   \n",
       "..        ...                 ...       ...             ...   \n",
       "713 -2.252617           -1.185069 -0.473367       -0.354584   \n",
       "714 -0.892332           -1.185069 -0.104566       -0.306462   \n",
       "715  0.467953           -1.185069 -0.402861       -0.354584   \n",
       "716  0.467953            0.113984  0.193730        0.992836   \n",
       "717  0.467953            0.113984  0.025600        0.992836   \n",
       "\n",
       "     number_of_reviews  reviews_per_month  owned_hotels         x         y  \\\n",
       "0             0.388042          -0.180147     -0.355571  0.165959 -0.126067   \n",
       "1            -0.262875           0.018425     -0.299282 -0.207155  2.969473   \n",
       "2            -0.634827          -0.726220      0.263607 -0.639928 -0.212293   \n",
       "3            -0.216381          -0.047765     -0.355571  0.133459 -0.827736   \n",
       "4            -0.030404          -0.130504     -0.299282  0.159373 -0.988596   \n",
       "..                 ...                ...           ...       ...       ...   \n",
       "713           1.038958           0.771344     -0.355571  0.777613 -1.386212   \n",
       "714           1.364417           0.399022     -0.355571  0.116565 -0.112639   \n",
       "715           2.154815           2.872899     -0.355571 -0.810766  0.503420   \n",
       "716          -0.634827          -0.726220      0.882785 -0.416408 -0.173975   \n",
       "717          -0.541839          -0.676577      4.764825 -1.290173  1.022572   \n",
       "\n",
       "            z  months_of_reviews  min_cost_of_stay  \n",
       "0    0.362864          -0.416729         -0.227051  \n",
       "1    2.712596          -0.044128         -0.245172  \n",
       "2   -0.662714          -0.552221          0.662557  \n",
       "3   -0.852441          -0.140728          0.250702  \n",
       "4   -1.323841          -0.302083         -0.258214  \n",
       "..        ...                ...               ...  \n",
       "713 -2.103033          -0.325147         -0.242976  \n",
       "714  0.342431          -0.409377         -0.204399  \n",
       "715  0.277169          -0.224783         -0.239406  \n",
       "716 -0.263394          -0.552221          0.559593  \n",
       "717  0.392073          -0.416729          0.431918  \n",
       "\n",
       "[718 rows x 12 columns]"
      ]
     },
     "execution_count": 64,
     "metadata": {},
     "output_type": "execute_result"
    }
   ],
   "source": [
    "x_test1"
   ]
  },
  {
   "cell_type": "markdown",
   "metadata": {
    "colab": {},
    "colab_type": "code",
    "id": "nkQU41WSIKSz"
   },
   "source": [
    "#### Below we make predictions on the test data"
   ]
  },
  {
   "cell_type": "code",
   "execution_count": 65,
   "metadata": {},
   "outputs": [],
   "source": [
    "preds= best_model_rf.predict(x_test1)"
   ]
  },
  {
   "cell_type": "code",
   "execution_count": 66,
   "metadata": {},
   "outputs": [
    {
     "data": {
      "text/plain": [
       "array([0, 0, 1, 0, 0, 1, 0, 1, 0, 0, 0, 0, 1, 1, 1, 1, 0, 1, 0, 1, 1, 0,\n",
       "       0, 0, 1, 0, 1, 0, 1, 0, 1, 1, 1, 0, 0, 0, 1, 0, 1, 1, 0, 1, 0, 0,\n",
       "       0, 1, 1, 0, 1, 1, 0, 0, 0, 1, 0, 1, 1, 0, 0, 1, 0, 1, 0, 1, 1, 1,\n",
       "       1, 1, 1, 1, 1, 0, 0, 0, 1, 0, 0, 0, 0, 1, 1, 1, 1, 1, 0, 0, 1, 0,\n",
       "       1, 0, 0, 1, 0, 1, 1, 0, 0, 0, 0, 0, 1, 1, 0, 1, 0, 0, 1, 1, 1, 1,\n",
       "       0, 0, 1, 1, 1, 1, 1, 0, 0, 0, 0, 1, 1, 0, 1, 0, 0, 0, 1, 1, 1, 1,\n",
       "       1, 0, 0, 1, 1, 1, 1, 1, 0, 1, 1, 0, 1, 1, 0, 0, 1, 1, 0, 0, 0, 0,\n",
       "       0, 1, 0, 1, 1, 0, 0, 0, 0, 0, 1, 1, 1, 1, 0, 0, 0, 1, 0, 0, 0, 1,\n",
       "       1, 1, 0, 1, 1, 1, 0, 0, 1, 1, 0, 0, 0, 0, 0, 0, 0, 1, 0, 1, 0, 1,\n",
       "       1, 1, 1, 1, 0, 1, 1, 0, 1, 1, 1, 0, 1, 0, 0, 1, 0, 0, 1, 1, 0, 1,\n",
       "       0, 1, 1, 0, 0, 0, 1, 0, 0, 0, 1, 0, 0, 1, 1, 0, 0, 0, 1, 1, 0, 1,\n",
       "       0, 0, 1, 0, 0, 1, 1, 0, 1, 0, 0, 0, 1, 0, 0, 0, 1, 1, 1, 0, 1, 1,\n",
       "       0, 1, 1, 0, 0, 0, 1, 1, 1, 0, 1, 1, 0, 0, 0, 0, 0, 0, 1, 1, 1, 1,\n",
       "       1, 1, 1, 1, 1, 0, 0, 1, 1, 1, 0, 0, 1, 0, 1, 1, 0, 0, 0, 1, 1, 1,\n",
       "       1, 1, 0, 1, 1, 0, 0, 0, 0, 1, 0, 1, 1, 1, 1, 0, 0, 0, 0, 0, 1, 0,\n",
       "       1, 1, 1, 0, 1, 1, 0, 1, 0, 0, 1, 0, 0, 0, 1, 0, 0, 0, 1, 1, 1, 0,\n",
       "       1, 1, 0, 0, 1, 0, 1, 1, 1, 1, 1, 0, 0, 1, 0, 1, 0, 0, 1, 0, 0, 0,\n",
       "       1, 0, 0, 1, 0, 1, 0, 1, 0, 1, 1, 1, 0, 1, 1, 0, 0, 1, 0, 0, 1, 1,\n",
       "       1, 1, 0, 0, 1, 0, 0, 1, 1, 0, 0, 1, 0, 1, 0, 1, 0, 0, 0, 0, 0, 1,\n",
       "       1, 1, 1, 0, 1, 1, 1, 1, 1, 0, 1, 1, 0, 1, 0, 1, 1, 0, 1, 1, 1, 0,\n",
       "       0, 1, 0, 0, 0, 1, 1, 0, 0, 0, 1, 0, 0, 1, 0, 0, 0, 0, 0, 1, 0, 1,\n",
       "       1, 0, 1, 0, 0, 0, 1, 0, 0, 1, 0, 1, 1, 0, 1, 1, 1, 1, 1, 0, 0, 1,\n",
       "       1, 0, 0, 0, 0, 0, 0, 1, 1, 1, 0, 1, 0, 0, 0, 1, 0, 0, 1, 0, 0, 0,\n",
       "       1, 1, 1, 1, 1, 1, 1, 0, 1, 1, 1, 1, 0, 1, 1, 1, 1, 0, 0, 0, 1, 0,\n",
       "       1, 0, 1, 0, 0, 0, 1, 1, 1, 1, 1, 0, 0, 0, 0, 0, 1, 0, 0, 0, 0, 1,\n",
       "       1, 1, 1, 0, 1, 0, 1, 1, 0, 0, 1, 1, 0, 0, 0, 0, 0, 0, 1, 0, 1, 1,\n",
       "       1, 0, 0, 0, 0, 0, 0, 1, 0, 1, 1, 0, 0, 0, 1, 0, 1, 1, 0, 1, 0, 0,\n",
       "       0, 0, 0, 1, 0, 0, 1, 1, 1, 1, 0, 0, 1, 1, 1, 1, 0, 0, 0, 1, 0, 1,\n",
       "       0, 1, 1, 0, 1, 1, 0, 0, 1, 1, 0, 1, 0, 0, 1, 0, 0, 0, 0, 0, 1, 0,\n",
       "       0, 1, 1, 1, 0, 1, 0, 0, 1, 0, 0, 1, 1, 1, 1, 1, 0, 0, 0, 1, 1, 1,\n",
       "       0, 0, 0, 0, 1, 0, 0, 1, 0, 1, 1, 0, 1, 0, 0, 0, 0, 1, 1, 1, 1, 1,\n",
       "       0, 1, 0, 1, 0, 1, 1, 0, 0, 1, 1, 1, 0, 1, 1, 1, 1, 0, 0, 1, 0, 0,\n",
       "       1, 0, 0, 1, 1, 0, 1, 0, 1, 0, 0, 0, 1, 1])"
      ]
     },
     "execution_count": 66,
     "metadata": {},
     "output_type": "execute_result"
    }
   ],
   "source": [
    "preds"
   ]
  },
  {
   "cell_type": "code",
   "execution_count": 67,
   "metadata": {},
   "outputs": [],
   "source": [
    "di=pd.DataFrame({\"id\":test_data.id,\"yearly_availability\":preds.astype(int) })"
   ]
  },
  {
   "cell_type": "code",
   "execution_count": 68,
   "metadata": {},
   "outputs": [
    {
     "data": {
      "text/html": [
       "<div>\n",
       "<style scoped>\n",
       "    .dataframe tbody tr th:only-of-type {\n",
       "        vertical-align: middle;\n",
       "    }\n",
       "\n",
       "    .dataframe tbody tr th {\n",
       "        vertical-align: top;\n",
       "    }\n",
       "\n",
       "    .dataframe thead th {\n",
       "        text-align: right;\n",
       "    }\n",
       "</style>\n",
       "<table border=\"1\" class=\"dataframe\">\n",
       "  <thead>\n",
       "    <tr style=\"text-align: right;\">\n",
       "      <th></th>\n",
       "      <th>id</th>\n",
       "      <th>yearly_availability</th>\n",
       "    </tr>\n",
       "  </thead>\n",
       "  <tbody>\n",
       "    <tr>\n",
       "      <th>0</th>\n",
       "      <td>19215</td>\n",
       "      <td>0</td>\n",
       "    </tr>\n",
       "    <tr>\n",
       "      <th>1</th>\n",
       "      <td>36301</td>\n",
       "      <td>0</td>\n",
       "    </tr>\n",
       "    <tr>\n",
       "      <th>2</th>\n",
       "      <td>40566</td>\n",
       "      <td>1</td>\n",
       "    </tr>\n",
       "    <tr>\n",
       "      <th>3</th>\n",
       "      <td>33694</td>\n",
       "      <td>0</td>\n",
       "    </tr>\n",
       "    <tr>\n",
       "      <th>4</th>\n",
       "      <td>28873</td>\n",
       "      <td>0</td>\n",
       "    </tr>\n",
       "    <tr>\n",
       "      <th>...</th>\n",
       "      <td>...</td>\n",
       "      <td>...</td>\n",
       "    </tr>\n",
       "    <tr>\n",
       "      <th>713</th>\n",
       "      <td>26801</td>\n",
       "      <td>0</td>\n",
       "    </tr>\n",
       "    <tr>\n",
       "      <th>714</th>\n",
       "      <td>20110</td>\n",
       "      <td>0</td>\n",
       "    </tr>\n",
       "    <tr>\n",
       "      <th>715</th>\n",
       "      <td>31383</td>\n",
       "      <td>0</td>\n",
       "    </tr>\n",
       "    <tr>\n",
       "      <th>716</th>\n",
       "      <td>47135</td>\n",
       "      <td>1</td>\n",
       "    </tr>\n",
       "    <tr>\n",
       "      <th>717</th>\n",
       "      <td>13154</td>\n",
       "      <td>1</td>\n",
       "    </tr>\n",
       "  </tbody>\n",
       "</table>\n",
       "<p>718 rows × 2 columns</p>\n",
       "</div>"
      ],
      "text/plain": [
       "        id  yearly_availability\n",
       "0    19215                    0\n",
       "1    36301                    0\n",
       "2    40566                    1\n",
       "3    33694                    0\n",
       "4    28873                    0\n",
       "..     ...                  ...\n",
       "713  26801                    0\n",
       "714  20110                    0\n",
       "715  31383                    0\n",
       "716  47135                    1\n",
       "717  13154                    1\n",
       "\n",
       "[718 rows x 2 columns]"
      ]
     },
     "execution_count": 68,
     "metadata": {},
     "output_type": "execute_result"
    }
   ],
   "source": [
    "di"
   ]
  },
  {
   "cell_type": "markdown",
   "metadata": {
    "colab_type": "text",
    "id": "MK_rdXETIKS4"
   },
   "source": [
    "\n",
    "\n",
    "**Highlight the most important features of the model for management.**\n",
    "\n",
    "> #### Task:\n",
    "- **Visualize the top 20 features and their feature importance.**\n"
   ]
  },
  {
   "cell_type": "code",
   "execution_count": 69,
   "metadata": {},
   "outputs": [
    {
     "data": {
      "text/html": [
       "<div>\n",
       "<style scoped>\n",
       "    .dataframe tbody tr th:only-of-type {\n",
       "        vertical-align: middle;\n",
       "    }\n",
       "\n",
       "    .dataframe tbody tr th {\n",
       "        vertical-align: top;\n",
       "    }\n",
       "\n",
       "    .dataframe thead th {\n",
       "        text-align: right;\n",
       "    }\n",
       "</style>\n",
       "<table border=\"1\" class=\"dataframe\">\n",
       "  <thead>\n",
       "    <tr style=\"text-align: right;\">\n",
       "      <th></th>\n",
       "      <th>region</th>\n",
       "      <th>accommodation_type</th>\n",
       "      <th>cost</th>\n",
       "      <th>minimum_nights</th>\n",
       "      <th>number_of_reviews</th>\n",
       "      <th>reviews_per_month</th>\n",
       "      <th>owned_hotels</th>\n",
       "      <th>x</th>\n",
       "      <th>y</th>\n",
       "      <th>z</th>\n",
       "      <th>months_of_reviews</th>\n",
       "      <th>min_cost_of_stay</th>\n",
       "    </tr>\n",
       "  </thead>\n",
       "  <tbody>\n",
       "    <tr>\n",
       "      <th>0</th>\n",
       "      <td>0.392270</td>\n",
       "      <td>-1.171745</td>\n",
       "      <td>-0.037937</td>\n",
       "      <td>-0.246494</td>\n",
       "      <td>-0.316505</td>\n",
       "      <td>-0.254657</td>\n",
       "      <td>-0.350180</td>\n",
       "      <td>-1.090738</td>\n",
       "      <td>0.811436</td>\n",
       "      <td>0.233917</td>\n",
       "      <td>-0.169263</td>\n",
       "      <td>-0.154212</td>\n",
       "    </tr>\n",
       "    <tr>\n",
       "      <th>1</th>\n",
       "      <td>-0.959247</td>\n",
       "      <td>-1.171745</td>\n",
       "      <td>-0.556399</td>\n",
       "      <td>-0.356374</td>\n",
       "      <td>3.974646</td>\n",
       "      <td>1.245139</td>\n",
       "      <td>-0.350180</td>\n",
       "      <td>0.023956</td>\n",
       "      <td>1.246151</td>\n",
       "      <td>1.574609</td>\n",
       "      <td>-0.442197</td>\n",
       "      <td>-0.246320</td>\n",
       "    </tr>\n",
       "    <tr>\n",
       "      <th>2</th>\n",
       "      <td>1.743787</td>\n",
       "      <td>0.167525</td>\n",
       "      <td>-0.457644</td>\n",
       "      <td>-0.466253</td>\n",
       "      <td>-0.597864</td>\n",
       "      <td>-0.737350</td>\n",
       "      <td>-0.350180</td>\n",
       "      <td>2.824985</td>\n",
       "      <td>-1.735801</td>\n",
       "      <td>-0.992878</td>\n",
       "      <td>-0.534502</td>\n",
       "      <td>-0.261789</td>\n",
       "    </tr>\n",
       "    <tr>\n",
       "      <th>3</th>\n",
       "      <td>0.392270</td>\n",
       "      <td>0.167525</td>\n",
       "      <td>0.159572</td>\n",
       "      <td>1.126996</td>\n",
       "      <td>-0.597864</td>\n",
       "      <td>-0.737350</td>\n",
       "      <td>3.365272</td>\n",
       "      <td>-0.609864</td>\n",
       "      <td>0.071339</td>\n",
       "      <td>-0.132092</td>\n",
       "      <td>-0.534502</td>\n",
       "      <td>0.612190</td>\n",
       "    </tr>\n",
       "    <tr>\n",
       "      <th>4</th>\n",
       "      <td>0.392270</td>\n",
       "      <td>1.506796</td>\n",
       "      <td>-0.507022</td>\n",
       "      <td>-0.356374</td>\n",
       "      <td>0.929515</td>\n",
       "      <td>-0.375331</td>\n",
       "      <td>-0.234072</td>\n",
       "      <td>0.057373</td>\n",
       "      <td>-1.073389</td>\n",
       "      <td>-1.698789</td>\n",
       "      <td>-0.484041</td>\n",
       "      <td>-0.242102</td>\n",
       "    </tr>\n",
       "    <tr>\n",
       "      <th>...</th>\n",
       "      <td>...</td>\n",
       "      <td>...</td>\n",
       "      <td>...</td>\n",
       "      <td>...</td>\n",
       "      <td>...</td>\n",
       "      <td>...</td>\n",
       "      <td>...</td>\n",
       "      <td>...</td>\n",
       "      <td>...</td>\n",
       "      <td>...</td>\n",
       "      <td>...</td>\n",
       "      <td>...</td>\n",
       "    </tr>\n",
       "    <tr>\n",
       "      <th>2865</th>\n",
       "      <td>0.392270</td>\n",
       "      <td>0.167525</td>\n",
       "      <td>1.097742</td>\n",
       "      <td>-0.411313</td>\n",
       "      <td>-0.597864</td>\n",
       "      <td>-0.737350</td>\n",
       "      <td>-0.350180</td>\n",
       "      <td>-0.618508</td>\n",
       "      <td>0.024510</td>\n",
       "      <td>-0.214731</td>\n",
       "      <td>-0.534502</td>\n",
       "      <td>-0.161243</td>\n",
       "    </tr>\n",
       "    <tr>\n",
       "      <th>2866</th>\n",
       "      <td>0.392270</td>\n",
       "      <td>0.167525</td>\n",
       "      <td>0.011440</td>\n",
       "      <td>-0.356374</td>\n",
       "      <td>-0.517476</td>\n",
       "      <td>-0.677014</td>\n",
       "      <td>-0.350180</td>\n",
       "      <td>-0.902443</td>\n",
       "      <td>0.389972</td>\n",
       "      <td>-0.070092</td>\n",
       "      <td>-0.374710</td>\n",
       "      <td>-0.197805</td>\n",
       "    </tr>\n",
       "    <tr>\n",
       "      <th>2867</th>\n",
       "      <td>0.392270</td>\n",
       "      <td>-1.171745</td>\n",
       "      <td>0.006503</td>\n",
       "      <td>-0.356374</td>\n",
       "      <td>0.085437</td>\n",
       "      <td>-0.159843</td>\n",
       "      <td>-0.350180</td>\n",
       "      <td>-0.815770</td>\n",
       "      <td>-0.031628</td>\n",
       "      <td>-0.635390</td>\n",
       "      <td>-0.354568</td>\n",
       "      <td>-0.198227</td>\n",
       "    </tr>\n",
       "    <tr>\n",
       "      <th>2868</th>\n",
       "      <td>0.392270</td>\n",
       "      <td>0.167525</td>\n",
       "      <td>0.110195</td>\n",
       "      <td>1.126996</td>\n",
       "      <td>-0.597864</td>\n",
       "      <td>-0.737350</td>\n",
       "      <td>2.436409</td>\n",
       "      <td>-0.452179</td>\n",
       "      <td>-0.158491</td>\n",
       "      <td>-0.273312</td>\n",
       "      <td>-0.534502</td>\n",
       "      <td>0.570002</td>\n",
       "    </tr>\n",
       "    <tr>\n",
       "      <th>2869</th>\n",
       "      <td>0.392270</td>\n",
       "      <td>1.506796</td>\n",
       "      <td>4.060383</td>\n",
       "      <td>1.126996</td>\n",
       "      <td>0.366796</td>\n",
       "      <td>-0.452906</td>\n",
       "      <td>0.230359</td>\n",
       "      <td>-0.315207</td>\n",
       "      <td>-0.666457</td>\n",
       "      <td>-1.109142</td>\n",
       "      <td>-0.471726</td>\n",
       "      <td>3.944980</td>\n",
       "    </tr>\n",
       "  </tbody>\n",
       "</table>\n",
       "<p>2870 rows × 12 columns</p>\n",
       "</div>"
      ],
      "text/plain": [
       "        region  accommodation_type      cost  minimum_nights  \\\n",
       "0     0.392270           -1.171745 -0.037937       -0.246494   \n",
       "1    -0.959247           -1.171745 -0.556399       -0.356374   \n",
       "2     1.743787            0.167525 -0.457644       -0.466253   \n",
       "3     0.392270            0.167525  0.159572        1.126996   \n",
       "4     0.392270            1.506796 -0.507022       -0.356374   \n",
       "...        ...                 ...       ...             ...   \n",
       "2865  0.392270            0.167525  1.097742       -0.411313   \n",
       "2866  0.392270            0.167525  0.011440       -0.356374   \n",
       "2867  0.392270           -1.171745  0.006503       -0.356374   \n",
       "2868  0.392270            0.167525  0.110195        1.126996   \n",
       "2869  0.392270            1.506796  4.060383        1.126996   \n",
       "\n",
       "      number_of_reviews  reviews_per_month  owned_hotels         x         y  \\\n",
       "0             -0.316505          -0.254657     -0.350180 -1.090738  0.811436   \n",
       "1              3.974646           1.245139     -0.350180  0.023956  1.246151   \n",
       "2             -0.597864          -0.737350     -0.350180  2.824985 -1.735801   \n",
       "3             -0.597864          -0.737350      3.365272 -0.609864  0.071339   \n",
       "4              0.929515          -0.375331     -0.234072  0.057373 -1.073389   \n",
       "...                 ...                ...           ...       ...       ...   \n",
       "2865          -0.597864          -0.737350     -0.350180 -0.618508  0.024510   \n",
       "2866          -0.517476          -0.677014     -0.350180 -0.902443  0.389972   \n",
       "2867           0.085437          -0.159843     -0.350180 -0.815770 -0.031628   \n",
       "2868          -0.597864          -0.737350      2.436409 -0.452179 -0.158491   \n",
       "2869           0.366796          -0.452906      0.230359 -0.315207 -0.666457   \n",
       "\n",
       "             z  months_of_reviews  min_cost_of_stay  \n",
       "0     0.233917          -0.169263         -0.154212  \n",
       "1     1.574609          -0.442197         -0.246320  \n",
       "2    -0.992878          -0.534502         -0.261789  \n",
       "3    -0.132092          -0.534502          0.612190  \n",
       "4    -1.698789          -0.484041         -0.242102  \n",
       "...        ...                ...               ...  \n",
       "2865 -0.214731          -0.534502         -0.161243  \n",
       "2866 -0.070092          -0.374710         -0.197805  \n",
       "2867 -0.635390          -0.354568         -0.198227  \n",
       "2868 -0.273312          -0.534502          0.570002  \n",
       "2869 -1.109142          -0.471726          3.944980  \n",
       "\n",
       "[2870 rows x 12 columns]"
      ]
     },
     "execution_count": 69,
     "metadata": {},
     "output_type": "execute_result"
    }
   ],
   "source": [
    "x_ss"
   ]
  },
  {
   "cell_type": "code",
   "execution_count": 70,
   "metadata": {
    "colab": {},
    "colab_type": "code",
    "id": "HHFM3XPMIKS6"
   },
   "outputs": [
    {
     "name": "stderr",
     "output_type": "stream",
     "text": [
      "/opt/conda/lib/python3.7/site-packages/sklearn/ensemble/forest.py:245: FutureWarning: The default value of n_estimators will change from 10 in version 0.20 to 100 in 0.22.\n",
      "  \"10 in version 0.20 to 100 in 0.22.\", FutureWarning)\n"
     ]
    },
    {
     "name": "stdout",
     "output_type": "stream",
     "text": [
      "Feature: 0, Score: 0.00587\n",
      "Feature: 1, Score: 0.54738\n",
      "Feature: 2, Score: 0.02738\n",
      "Feature: 3, Score: 0.01158\n",
      "Feature: 4, Score: 0.01932\n",
      "Feature: 5, Score: 0.04048\n",
      "Feature: 6, Score: 0.19664\n",
      "Feature: 7, Score: 0.03584\n",
      "Feature: 8, Score: 0.02673\n",
      "Feature: 9, Score: 0.02654\n",
      "Feature: 10, Score: 0.02622\n",
      "Feature: 11, Score: 0.03602\n"
     ]
    },
    {
     "data": {
      "image/png": "[encoded data removed]",
      "text/plain": [
       "<Figure size 432x288 with 1 Axes>"
      ]
     },
     "metadata": {
      "needs_background": "light"
     },
     "output_type": "display_data"
    }
   ],
   "source": [
    "# Using the Random Forest Regressor to calculate the Feature Importances\n",
    "\n",
    "from sklearn.datasets import make_regression\n",
    "from sklearn.ensemble import RandomForestRegressor\n",
    "from matplotlib import pyplot\n",
    "model = RandomForestRegressor()\n",
    "model.fit(x_ss, y)\n",
    "importance = model.feature_importances_\n",
    "for i,v in enumerate(importance):\n",
    "    print('Feature: %0d, Score: %.5f' % (i,v))\n",
    "pyplot.bar([x for x in range(len(importance))], importance)\n",
    "pyplot.show()"
   ]
  },
  {
   "cell_type": "markdown",
   "metadata": {},
   "source": [
    "##### According to the above figure, the 1st feature(accomodation_type) has the most importance. To check the other labels, refer the cell above feature importance"
   ]
  },
  {
   "cell_type": "markdown",
   "metadata": {},
   "source": [
    "### Part 6: Observations"
   ]
  },
  {
   "cell_type": "markdown",
   "metadata": {},
   "source": [
    "- For the hotel booking agency, they should focus more on Reviews_per_month and the Accommodation_type received in order to fund the hotels that could support bookings for 365 days. The company can further decide the funding based on the owner. For example, features like owned_hotels also play an important role in identifying worthy hotels for funding. \n",
    "- During visualization we found a strong and obvious correlation between the region, accomodation type and the yearly_availability. Therefore, in my opinion the region where the availabilty is the lowest can be focussed on for funding.\n",
    "- Furthermore, since we already know that the private rooms offer the most number of availabilty for 365 days, we can boil down our choices for investment. Which means that the private rooms are unavailable and therefore they might need assisstance and funding.\n",
    "- We also saw that the private rooms are the most popular ones. Their reviews are generally higher and they are usually unavailable to the customer. This could mean that the private rooms must be sold out or they are unable to sustain themselves. Either way, providing them the funding would be a good decision.\n",
    "- The inexpensive hotels are unable to accomodate guests and might require assistance.\n",
    "- The hotels that have 30 or less than 30 minimum nights are generally unavailable to the user. This observation was made on the scatter plot. Therefore the investment can be directed using a certain criteria depending on the minimum nights of stay and their cost correlation.\n",
    "- The Region of the hotel also plays a major role in identifying the pattern of availability. Some regions have a very high inavailabilty as compared to others. Therefore investment must be made there as they might be sold out and business can be increased there.\n",
    "- Many apartment type homes have a minimum nights threshsold that is very high, the reason why they are commonly not available because even by a few bookings, they are occupied throughout the year."
   ]
  },
  {
   "cell_type": "markdown",
   "metadata": {
    "colab_type": "text",
    "id": "UFogmgYZIKTE"
   },
   "source": [
    "> #### Task:\n",
    "- **Submit the predictions on the test dataset using your optimized model** <br/>\n",
    "    For each record in the test set (`test.csv`), predict the value of the `yearly_availability` variable. Submit a CSV file with a header row and one row per test entry.\n",
    "\n",
    "The file (`submissions.csv`) should have exactly 2 columns:\n",
    "   - **id**\n",
    "   - **yearly_availability**"
   ]
  },
  {
   "cell_type": "code",
   "execution_count": 73,
   "metadata": {
    "colab": {},
    "colab_type": "code",
    "id": "nBRVPrYbIKTQ"
   },
   "outputs": [],
   "source": [
    "#Submission\n",
    "di.to_csv('submissions.csv',index=False)"
   ]
  },
  {
   "cell_type": "markdown",
   "metadata": {
    "colab_type": "text",
    "id": "H_pB8zTcIKTW"
   },
   "source": [
    "---"
   ]
  }
 ],
 "metadata": {
  "colab": {
   "collapsed_sections": [],
   "name": "Questions.ipynb",
   "provenance": [],
   "version": "0.3.2"
  },
  "kernelspec": {
   "display_name": "Python 3",
   "language": "python",
   "name": "python3"
  },
  "language_info": {
   "codemirror_mode": {
    "name": "ipython",
    "version": 3
   },
   "file_extension": ".py",
   "mimetype": "text/x-python",
   "name": "python",
   "nbconvert_exporter": "python",
   "pygments_lexer": "ipython3",
   "version": "3.7.8"
  },
  "toc": {
   "base_numbering": 1,
   "nav_menu": {},
   "number_sections": true,
   "sideBar": true,
   "skip_h1_title": false,
   "title_cell": "Table of Contents",
   "title_sidebar": "Contents",
   "toc_cell": false,
   "toc_position": {},
   "toc_section_display": true,
   "toc_window_display": false
  }
 },
 "nbformat": 4,
 "nbformat_minor": 4
}
